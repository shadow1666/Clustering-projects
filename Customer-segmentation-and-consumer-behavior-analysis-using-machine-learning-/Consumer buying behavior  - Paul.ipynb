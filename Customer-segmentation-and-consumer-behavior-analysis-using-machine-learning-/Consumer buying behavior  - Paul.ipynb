{
  "nbformat": 4,
  "nbformat_minor": 0,
  "metadata": {
    "kernelspec": {
      "display_name": "Python 3",
      "language": "python",
      "name": "python3"
    },
    "language_info": {
      "codemirror_mode": {
        "name": "ipython",
        "version": 3
      },
      "file_extension": ".py",
      "mimetype": "text/x-python",
      "name": "python",
      "nbconvert_exporter": "python",
      "pygments_lexer": "ipython3",
      "version": "3.7.0"
    },
    "colab": {
      "name": "Consumer buying behavior  - Paul.ipynb",
      "provenance": [],
      "toc_visible": true
    }
  },
  "cells": [
    {
      "cell_type": "markdown",
      "metadata": {
        "id": "af4TqvFXZhcE"
      },
      "source": [
        "#### Lourhmati Radwane , National Institute of Posts and Telecommunications (May, 2019)"
      ]
    },
    {
      "cell_type": "markdown",
      "metadata": {
        "id": "0Wg23rMrbIZI"
      },
      "source": [
        "First of all let us have a clear vision about our projet and then proced to technical part,\n",
        "\n",
        "What is Customer Segmentation?\n",
        "\n",
        "Customer segmentation is the process of dividing customers into groups based on common characteristics so companies can market to each group effectively and appropriately.\n",
        "\n",
        "In business-to-business marketing, a company might segment customers according to a wide range of factors, including:\n",
        "\n",
        "    Industry\n",
        "    Number of employees\n",
        "    Products previously purchased from the company\n",
        "    Location\n",
        "\n",
        "In business-to-consumer marketing, companies often segment customers according to demographics that include:\n",
        "\n",
        "    Age\n",
        "    Gender\n",
        "    Marital status\n",
        "    Location (urban, suburban, rural)\n",
        "    Life stage (single, married, divorced, empty-nester, retired, etc.)\n",
        "\n",
        "Why Segment Customers?\n",
        "\n",
        "Segmentation allows marketers to better tailor their marketing efforts to various audience subsets. Those efforts can relate to both communications and product development. Specifically, segmentation helps a company:\n",
        "\n",
        "    Create and communicate targeted marketing messages that will resonate with specific groups of customers, but not with others (who will receive messages tailored to their needs and interests, instead).\n",
        "    Select the best communication channel for the segment, which might be email, social media posts, radio advertising, or another approach, depending on the segment. \n",
        "    Identify ways to improve products or new product or service opportunities.\n",
        "    Establish better customer relationships.\n",
        "    Test pricing options.\n",
        "    Focus on the most profitable customers.\n",
        "    Improve customer service.\n",
        "    Upsell and cross-sell other products and services.\n",
        "\n",
        "\n",
        "How to Segment Customers\n",
        "\n",
        "Customer segmentation requires a company to gather specific information – data – about customers and analyze it to identify patterns that can be used to create segments.\n",
        "\n",
        "Some of that can be gathered from purchasing information – job title, geography, products purchased, for example. Some of it might be gleaned from how the customer entered your system. An online marketer working from an opt-in email list might segment marketing messages according to the opt-in offer that attracted the customer, for example. Other information, however, including consumer demographics such as age and marital status, will need to be acquired in other ways.\n",
        "\n",
        "Typical information-gathering methods include:\n",
        "\n",
        "    Face-to-face or telephone interviews\n",
        "    Surveys\n",
        "    General research using published information about market categories\n",
        "    Focus groups\n",
        "\n",
        "In our case we are going to analyse the  Wholesale customers Data Set.This is a real sales data set of a UK based retailer. Our objective is to segment customers based on buying behavior by applying k-means clustering algorithm to calculate the optimal number of customer segments with similar buying habits (features).\n"
      ]
    },
    {
      "cell_type": "markdown",
      "metadata": {
        "id": "-dkM2TmhZhcE"
      },
      "source": [
        "## Customer segmentation and consumer behavior analysis"
      ]
    },
    {
      "cell_type": "markdown",
      "metadata": {
        "id": "0qlLfhkgZhcE"
      },
      "source": [
        "##### Importing the libraries"
      ]
    },
    {
      "cell_type": "code",
      "metadata": {
        "id": "uOoMiVCNZhcE"
      },
      "source": [
        "# Importing the libraries\n",
        "\n",
        "import numpy as np\n",
        "import matplotlib.pyplot as plt\n",
        "import pandas as pd\n",
        "%matplotlib inline\n",
        "plt.style.use(\"ggplot\")\n",
        "\n",
        "# # Multiple Output display\n",
        "# from IPython.core.interactiveshell import InteractiveShell\n",
        "# InteractiveShell.ast_node_interactivity = \"all\""
      ],
      "execution_count": 8,
      "outputs": []
    },
    {
      "cell_type": "markdown",
      "metadata": {
        "id": "UfF9nqliZhcE"
      },
      "source": [
        "Data source: \n",
        "    \n",
        "https://archive.ics.uci.edu/ml/datasets/Wholesale+customers"
      ]
    },
    {
      "cell_type": "markdown",
      "metadata": {
        "id": "A4plJr7VZhcE"
      },
      "source": [
        "##### Loading the dataset "
      ]
    },
    {
      "cell_type": "code",
      "metadata": {
        "id": "6GUR2fxqZhcE",
        "outputId": "dcf8ec04-2400-4532-93cb-0d6a74049c20",
        "colab": {
          "base_uri": "https://localhost:8080/",
          "height": 206
        }
      },
      "source": [
        "# Importing the dataset\n",
        "\n",
        "dataset = pd.read_csv('sample_data/Wholesale customers data.csv')\n",
        "dataset.shape\n",
        "dataset.head(5)"
      ],
      "execution_count": 9,
      "outputs": [
        {
          "output_type": "execute_result",
          "data": {
            "text/html": [
              "<div>\n",
              "<style scoped>\n",
              "    .dataframe tbody tr th:only-of-type {\n",
              "        vertical-align: middle;\n",
              "    }\n",
              "\n",
              "    .dataframe tbody tr th {\n",
              "        vertical-align: top;\n",
              "    }\n",
              "\n",
              "    .dataframe thead th {\n",
              "        text-align: right;\n",
              "    }\n",
              "</style>\n",
              "<table border=\"1\" class=\"dataframe\">\n",
              "  <thead>\n",
              "    <tr style=\"text-align: right;\">\n",
              "      <th></th>\n",
              "      <th>Channel</th>\n",
              "      <th>Region</th>\n",
              "      <th>Fresh</th>\n",
              "      <th>Milk</th>\n",
              "      <th>Grocery</th>\n",
              "      <th>Frozen</th>\n",
              "      <th>Detergents_Paper</th>\n",
              "      <th>Delicassen</th>\n",
              "    </tr>\n",
              "  </thead>\n",
              "  <tbody>\n",
              "    <tr>\n",
              "      <th>0</th>\n",
              "      <td>2</td>\n",
              "      <td>3</td>\n",
              "      <td>12669</td>\n",
              "      <td>9656</td>\n",
              "      <td>7561</td>\n",
              "      <td>214</td>\n",
              "      <td>2674</td>\n",
              "      <td>1338</td>\n",
              "    </tr>\n",
              "    <tr>\n",
              "      <th>1</th>\n",
              "      <td>2</td>\n",
              "      <td>3</td>\n",
              "      <td>7057</td>\n",
              "      <td>9810</td>\n",
              "      <td>9568</td>\n",
              "      <td>1762</td>\n",
              "      <td>3293</td>\n",
              "      <td>1776</td>\n",
              "    </tr>\n",
              "    <tr>\n",
              "      <th>2</th>\n",
              "      <td>2</td>\n",
              "      <td>3</td>\n",
              "      <td>6353</td>\n",
              "      <td>8808</td>\n",
              "      <td>7684</td>\n",
              "      <td>2405</td>\n",
              "      <td>3516</td>\n",
              "      <td>7844</td>\n",
              "    </tr>\n",
              "    <tr>\n",
              "      <th>3</th>\n",
              "      <td>1</td>\n",
              "      <td>3</td>\n",
              "      <td>13265</td>\n",
              "      <td>1196</td>\n",
              "      <td>4221</td>\n",
              "      <td>6404</td>\n",
              "      <td>507</td>\n",
              "      <td>1788</td>\n",
              "    </tr>\n",
              "    <tr>\n",
              "      <th>4</th>\n",
              "      <td>2</td>\n",
              "      <td>3</td>\n",
              "      <td>22615</td>\n",
              "      <td>5410</td>\n",
              "      <td>7198</td>\n",
              "      <td>3915</td>\n",
              "      <td>1777</td>\n",
              "      <td>5185</td>\n",
              "    </tr>\n",
              "  </tbody>\n",
              "</table>\n",
              "</div>"
            ],
            "text/plain": [
              "   Channel  Region  Fresh  Milk  Grocery  Frozen  Detergents_Paper  Delicassen\n",
              "0        2       3  12669  9656     7561     214              2674        1338\n",
              "1        2       3   7057  9810     9568    1762              3293        1776\n",
              "2        2       3   6353  8808     7684    2405              3516        7844\n",
              "3        1       3  13265  1196     4221    6404               507        1788\n",
              "4        2       3  22615  5410     7198    3915              1777        5185"
            ]
          },
          "metadata": {
            "tags": []
          },
          "execution_count": 9
        }
      ]
    },
    {
      "cell_type": "markdown",
      "metadata": {
        "id": "Zg9owv1lZhcE"
      },
      "source": [
        "##### Missing data & Type of variables"
      ]
    },
    {
      "cell_type": "code",
      "metadata": {
        "id": "80ggCgaCZhcE",
        "outputId": "12e5dada-c1d1-4459-dcfd-610f4b9286dc"
      },
      "source": [
        "dataset.info()"
      ],
      "execution_count": null,
      "outputs": [
        {
          "output_type": "stream",
          "text": [
            "<class 'pandas.core.frame.DataFrame'>\n",
            "RangeIndex: 440 entries, 0 to 439\n",
            "Data columns (total 8 columns):\n",
            "Channel             440 non-null int64\n",
            "Region              440 non-null int64\n",
            "Fresh               440 non-null int64\n",
            "Milk                440 non-null int64\n",
            "Grocery             440 non-null int64\n",
            "Frozen              440 non-null int64\n",
            "Detergents_Paper    440 non-null int64\n",
            "Delicassen          440 non-null int64\n",
            "dtypes: int64(8)\n",
            "memory usage: 27.6 KB\n"
          ],
          "name": "stdout"
        }
      ]
    },
    {
      "cell_type": "markdown",
      "metadata": {
        "id": "t8kkAe8IZhcE"
      },
      "source": [
        "###### Analysis: \n",
        "\n",
        "Transforming specific variables into categorical variables"
      ]
    },
    {
      "cell_type": "code",
      "metadata": {
        "id": "MsbKLtk7ZhcE",
        "outputId": "3d7e01b8-7d24-446e-a633-b336a0b99922"
      },
      "source": [
        "dataset['Channel'] = dataset['Channel'].astype('category')\n",
        "dataset['Region'] = dataset['Region'].astype('category')\n",
        "dataset.info()"
      ],
      "execution_count": null,
      "outputs": [
        {
          "output_type": "stream",
          "text": [
            "<class 'pandas.core.frame.DataFrame'>\n",
            "RangeIndex: 440 entries, 0 to 439\n",
            "Data columns (total 8 columns):\n",
            "Channel             440 non-null category\n",
            "Region              440 non-null category\n",
            "Fresh               440 non-null int64\n",
            "Milk                440 non-null int64\n",
            "Grocery             440 non-null int64\n",
            "Frozen              440 non-null int64\n",
            "Detergents_Paper    440 non-null int64\n",
            "Delicassen          440 non-null int64\n",
            "dtypes: category(2), int64(6)\n",
            "memory usage: 21.8 KB\n"
          ],
          "name": "stdout"
        }
      ]
    },
    {
      "cell_type": "markdown",
      "metadata": {
        "id": "6rtOsXBeZhcE"
      },
      "source": [
        "### Data pre-processing for model"
      ]
    },
    {
      "cell_type": "code",
      "metadata": {
        "id": "jxC-WdqxZhcE",
        "outputId": "588f387a-786f-4698-b735-186ada3f7b48"
      },
      "source": [
        "# Customer Segmentation by $ Revenue & Country\n",
        "\n",
        "X = dataset\n",
        "num_cols = [\"Fresh\", \"Milk\", \"Grocery\", \"Frozen\", \"Detergents_Paper\", \"Delicassen\"]\n",
        "\n",
        "# Creating dummy variables for categorical types\n",
        "cat_cols = [\"Channel\", \"Region\"]\n",
        "dummies = pd.get_dummies(X[cat_cols])\n",
        "# dummies.head(5)\n",
        "\n",
        "# Combining dummy variables and numeric varianbles\n",
        "\n",
        "X1 = X[num_cols]\n",
        "X2 = pd.concat([dummies, X1], axis=1)\n",
        "X = X2\n",
        "\n",
        "y = dataset[\"Frozen\"]\n",
        "\n",
        "# Splitting the dataset into the training and test sets\n",
        "\n",
        "from sklearn.model_selection import train_test_split\n",
        "X_train, X_test, y_train, y_test = train_test_split(X, y, test_size = 0.25, random_state = 0)\n",
        "X_train.head(5)\n",
        "\n",
        "X_test0 = X_test\n",
        "y_test0 = y_test"
      ],
      "execution_count": null,
      "outputs": [
        {
          "output_type": "execute_result",
          "data": {
            "text/html": [
              "<div>\n",
              "<style scoped>\n",
              "    .dataframe tbody tr th:only-of-type {\n",
              "        vertical-align: middle;\n",
              "    }\n",
              "\n",
              "    .dataframe tbody tr th {\n",
              "        vertical-align: top;\n",
              "    }\n",
              "\n",
              "    .dataframe thead th {\n",
              "        text-align: right;\n",
              "    }\n",
              "</style>\n",
              "<table border=\"1\" class=\"dataframe\">\n",
              "  <thead>\n",
              "    <tr style=\"text-align: right;\">\n",
              "      <th></th>\n",
              "      <th>Channel_1</th>\n",
              "      <th>Channel_2</th>\n",
              "      <th>Region_1</th>\n",
              "      <th>Region_2</th>\n",
              "      <th>Region_3</th>\n",
              "      <th>Fresh</th>\n",
              "      <th>Milk</th>\n",
              "      <th>Grocery</th>\n",
              "      <th>Frozen</th>\n",
              "      <th>Detergents_Paper</th>\n",
              "      <th>Delicassen</th>\n",
              "    </tr>\n",
              "  </thead>\n",
              "  <tbody>\n",
              "    <tr>\n",
              "      <th>14</th>\n",
              "      <td>0</td>\n",
              "      <td>1</td>\n",
              "      <td>0</td>\n",
              "      <td>0</td>\n",
              "      <td>1</td>\n",
              "      <td>24653</td>\n",
              "      <td>9465</td>\n",
              "      <td>12091</td>\n",
              "      <td>294</td>\n",
              "      <td>5058</td>\n",
              "      <td>2168</td>\n",
              "    </tr>\n",
              "    <tr>\n",
              "      <th>299</th>\n",
              "      <td>1</td>\n",
              "      <td>0</td>\n",
              "      <td>0</td>\n",
              "      <td>1</td>\n",
              "      <td>0</td>\n",
              "      <td>444</td>\n",
              "      <td>879</td>\n",
              "      <td>2060</td>\n",
              "      <td>264</td>\n",
              "      <td>290</td>\n",
              "      <td>259</td>\n",
              "    </tr>\n",
              "    <tr>\n",
              "      <th>356</th>\n",
              "      <td>1</td>\n",
              "      <td>0</td>\n",
              "      <td>0</td>\n",
              "      <td>0</td>\n",
              "      <td>1</td>\n",
              "      <td>22686</td>\n",
              "      <td>134</td>\n",
              "      <td>218</td>\n",
              "      <td>3157</td>\n",
              "      <td>9</td>\n",
              "      <td>548</td>\n",
              "    </tr>\n",
              "    <tr>\n",
              "      <th>200</th>\n",
              "      <td>0</td>\n",
              "      <td>1</td>\n",
              "      <td>1</td>\n",
              "      <td>0</td>\n",
              "      <td>0</td>\n",
              "      <td>3067</td>\n",
              "      <td>13240</td>\n",
              "      <td>23127</td>\n",
              "      <td>3941</td>\n",
              "      <td>9959</td>\n",
              "      <td>731</td>\n",
              "    </tr>\n",
              "    <tr>\n",
              "      <th>220</th>\n",
              "      <td>1</td>\n",
              "      <td>0</td>\n",
              "      <td>1</td>\n",
              "      <td>0</td>\n",
              "      <td>0</td>\n",
              "      <td>14755</td>\n",
              "      <td>899</td>\n",
              "      <td>1382</td>\n",
              "      <td>1765</td>\n",
              "      <td>56</td>\n",
              "      <td>749</td>\n",
              "    </tr>\n",
              "  </tbody>\n",
              "</table>\n",
              "</div>"
            ],
            "text/plain": [
              "     Channel_1  Channel_2  Region_1  Region_2  Region_3  Fresh   Milk  \\\n",
              "14           0          1         0         0         1  24653   9465   \n",
              "299          1          0         0         1         0    444    879   \n",
              "356          1          0         0         0         1  22686    134   \n",
              "200          0          1         1         0         0   3067  13240   \n",
              "220          1          0         1         0         0  14755    899   \n",
              "\n",
              "     Grocery  Frozen  Detergents_Paper  Delicassen  \n",
              "14     12091     294              5058        2168  \n",
              "299     2060     264               290         259  \n",
              "356      218    3157                 9         548  \n",
              "200    23127    3941              9959         731  \n",
              "220     1382    1765                56         749  "
            ]
          },
          "metadata": {
            "tags": []
          },
          "execution_count": 263
        }
      ]
    },
    {
      "cell_type": "markdown",
      "metadata": {
        "id": "eitLas13ZhcE"
      },
      "source": [
        "### Principal component analysis"
      ]
    },
    {
      "cell_type": "code",
      "metadata": {
        "id": "8AUGXBoQZhcE",
        "outputId": "d25d8cb6-190b-4d79-f8d6-1dfcfd789cf9"
      },
      "source": [
        "# Checking the variance explained by each principal component\n",
        "\n",
        "from sklearn.decomposition import PCA\n",
        "pca = PCA(n_components = None)\n",
        "X_train1 = pca.fit_transform(X_train)\n",
        "X_test1 = pca.transform(X_test)\n",
        "explained_variance = pca.explained_variance_ratio_\n",
        "print(\"Variation explained by each principal component\")\n",
        "list(explained_variance)"
      ],
      "execution_count": null,
      "outputs": [
        {
          "output_type": "stream",
          "text": [
            "Variation explained by each principal component\n"
          ],
          "name": "stdout"
        },
        {
          "output_type": "execute_result",
          "data": {
            "text/plain": [
              "[0.46595784879068103,\n",
              " 0.40473044136593744,\n",
              " 0.06915995278940268,\n",
              " 0.0377564565310207,\n",
              " 0.01603191921308992,\n",
              " 0.006363379487508994,\n",
              " 8.365303815710361e-10,\n",
              " 6.566091152558098e-10,\n",
              " 3.292197502735766e-10,\n",
              " 1.11299085090118e-34,\n",
              " 3.319471567360467e-36]"
            ]
          },
          "metadata": {
            "tags": []
          },
          "execution_count": 264
        }
      ]
    },
    {
      "cell_type": "markdown",
      "metadata": {
        "id": "2FRZMSBBZhcE"
      },
      "source": [
        "##### Analysis: I shall choose the top 2 principal components. \n",
        "\n",
        "The top 2 principal components explain 86 % variance in the dataset. Beyond the top  2, the marginial gain in variance for adding each principal componenet is significantly reduced."
      ]
    },
    {
      "cell_type": "markdown",
      "metadata": {
        "id": "pI3WyCqoZhcE"
      },
      "source": [
        "##### Selecting the top 2 principal components"
      ]
    },
    {
      "cell_type": "code",
      "metadata": {
        "id": "ofN0edJGZhcE",
        "outputId": "662aea38-63c1-4706-885b-421436640c13"
      },
      "source": [
        "# Principal component analysis to take the 2 top components\n",
        "\n",
        "i = 2\n",
        "from sklearn.decomposition import PCA\n",
        "pca = PCA(n_components = i)\n",
        "X_train = pca.fit_transform(X_train)\n",
        "X_test = pca.transform(X_test)\n",
        "explained_variance = pca.explained_variance_ratio_\n",
        "print(\"Variation explained by each principal component\")\n",
        "list(explained_variance)"
      ],
      "execution_count": null,
      "outputs": [
        {
          "output_type": "stream",
          "text": [
            "Variation explained by each principal component\n"
          ],
          "name": "stdout"
        },
        {
          "output_type": "execute_result",
          "data": {
            "text/plain": [
              "[0.46595784879068103, 0.40473044136593744]"
            ]
          },
          "metadata": {
            "tags": []
          },
          "execution_count": 265
        }
      ]
    },
    {
      "cell_type": "markdown",
      "metadata": {
        "id": "Qb08DI8PZhcE"
      },
      "source": [
        "### Customer segmentation"
      ]
    },
    {
      "cell_type": "markdown",
      "metadata": {
        "id": "YP_zE0IjZhcE"
      },
      "source": [
        "Elbow method used for customer segmentation based on the top 2 principal componenets"
      ]
    },
    {
      "cell_type": "code",
      "metadata": {
        "id": "yydmyZiMZhcE",
        "outputId": "60569963-52df-4dde-9e35-aa8c205d4e23"
      },
      "source": [
        "# Using the elbow method to find the optimal number of clusters\n",
        "\n",
        "from sklearn.cluster import KMeans\n",
        "wcss = []\n",
        "for i in range(1, 11):\n",
        "    kmeans = KMeans(n_clusters = i, init = 'k-means++', random_state = 42)\n",
        "    kmeans.fit(X_test)\n",
        "    wcss.append(kmeans.inertia_)\n",
        "plt.plot(range(1, 11), wcss)\n",
        "plt.title('The Elbow Method')\n",
        "plt.xlabel('Number of clusters')\n",
        "plt.ylabel('WCSS')\n",
        "plt.show()"
      ],
      "execution_count": null,
      "outputs": [
        {
          "output_type": "execute_result",
          "data": {
            "text/plain": [
              "KMeans(algorithm='auto', copy_x=True, init='k-means++', max_iter=300,\n",
              "    n_clusters=1, n_init=10, n_jobs=1, precompute_distances='auto',\n",
              "    random_state=42, tol=0.0001, verbose=0)"
            ]
          },
          "metadata": {
            "tags": []
          },
          "execution_count": 266
        },
        {
          "output_type": "execute_result",
          "data": {
            "text/plain": [
              "KMeans(algorithm='auto', copy_x=True, init='k-means++', max_iter=300,\n",
              "    n_clusters=2, n_init=10, n_jobs=1, precompute_distances='auto',\n",
              "    random_state=42, tol=0.0001, verbose=0)"
            ]
          },
          "metadata": {
            "tags": []
          },
          "execution_count": 266
        },
        {
          "output_type": "execute_result",
          "data": {
            "text/plain": [
              "KMeans(algorithm='auto', copy_x=True, init='k-means++', max_iter=300,\n",
              "    n_clusters=3, n_init=10, n_jobs=1, precompute_distances='auto',\n",
              "    random_state=42, tol=0.0001, verbose=0)"
            ]
          },
          "metadata": {
            "tags": []
          },
          "execution_count": 266
        },
        {
          "output_type": "execute_result",
          "data": {
            "text/plain": [
              "KMeans(algorithm='auto', copy_x=True, init='k-means++', max_iter=300,\n",
              "    n_clusters=4, n_init=10, n_jobs=1, precompute_distances='auto',\n",
              "    random_state=42, tol=0.0001, verbose=0)"
            ]
          },
          "metadata": {
            "tags": []
          },
          "execution_count": 266
        },
        {
          "output_type": "execute_result",
          "data": {
            "text/plain": [
              "KMeans(algorithm='auto', copy_x=True, init='k-means++', max_iter=300,\n",
              "    n_clusters=5, n_init=10, n_jobs=1, precompute_distances='auto',\n",
              "    random_state=42, tol=0.0001, verbose=0)"
            ]
          },
          "metadata": {
            "tags": []
          },
          "execution_count": 266
        },
        {
          "output_type": "execute_result",
          "data": {
            "text/plain": [
              "KMeans(algorithm='auto', copy_x=True, init='k-means++', max_iter=300,\n",
              "    n_clusters=6, n_init=10, n_jobs=1, precompute_distances='auto',\n",
              "    random_state=42, tol=0.0001, verbose=0)"
            ]
          },
          "metadata": {
            "tags": []
          },
          "execution_count": 266
        },
        {
          "output_type": "execute_result",
          "data": {
            "text/plain": [
              "KMeans(algorithm='auto', copy_x=True, init='k-means++', max_iter=300,\n",
              "    n_clusters=7, n_init=10, n_jobs=1, precompute_distances='auto',\n",
              "    random_state=42, tol=0.0001, verbose=0)"
            ]
          },
          "metadata": {
            "tags": []
          },
          "execution_count": 266
        },
        {
          "output_type": "execute_result",
          "data": {
            "text/plain": [
              "KMeans(algorithm='auto', copy_x=True, init='k-means++', max_iter=300,\n",
              "    n_clusters=8, n_init=10, n_jobs=1, precompute_distances='auto',\n",
              "    random_state=42, tol=0.0001, verbose=0)"
            ]
          },
          "metadata": {
            "tags": []
          },
          "execution_count": 266
        },
        {
          "output_type": "execute_result",
          "data": {
            "text/plain": [
              "KMeans(algorithm='auto', copy_x=True, init='k-means++', max_iter=300,\n",
              "    n_clusters=9, n_init=10, n_jobs=1, precompute_distances='auto',\n",
              "    random_state=42, tol=0.0001, verbose=0)"
            ]
          },
          "metadata": {
            "tags": []
          },
          "execution_count": 266
        },
        {
          "output_type": "execute_result",
          "data": {
            "text/plain": [
              "KMeans(algorithm='auto', copy_x=True, init='k-means++', max_iter=300,\n",
              "    n_clusters=10, n_init=10, n_jobs=1, precompute_distances='auto',\n",
              "    random_state=42, tol=0.0001, verbose=0)"
            ]
          },
          "metadata": {
            "tags": []
          },
          "execution_count": 266
        },
        {
          "output_type": "execute_result",
          "data": {
            "text/plain": [
              "[<matplotlib.lines.Line2D at 0x154f7b349e8>]"
            ]
          },
          "metadata": {
            "tags": []
          },
          "execution_count": 266
        },
        {
          "output_type": "execute_result",
          "data": {
            "text/plain": [
              "Text(0.5,1,'The Elbow Method')"
            ]
          },
          "metadata": {
            "tags": []
          },
          "execution_count": 266
        },
        {
          "output_type": "execute_result",
          "data": {
            "text/plain": [
              "Text(0.5,0,'Number of clusters')"
            ]
          },
          "metadata": {
            "tags": []
          },
          "execution_count": 266
        },
        {
          "output_type": "execute_result",
          "data": {
            "text/plain": [
              "Text(0,0.5,'WCSS')"
            ]
          },
          "metadata": {
            "tags": []
          },
          "execution_count": 266
        },
        {
          "output_type": "display_data",
          "data": {
            "image/png": "[encoded data removed]",
            "text/plain": [
              "<Figure size 432x288 with 1 Axes>"
            ]
          },
          "metadata": {
            "tags": []
          }
        }
      ]
    },
    {
      "cell_type": "markdown",
      "metadata": {
        "id": "DQJLHGm7ZhcE"
      },
      "source": [
        "##### Analysis: \n",
        "\n",
        "Based on the above diagram, the optimal number of customer segmenets is 3. After the first 3 segments, the incremental drop in error for every additional segment results is significantly reduced."
      ]
    },
    {
      "cell_type": "markdown",
      "metadata": {
        "id": "M9lixzKtZhcE"
      },
      "source": [
        "### Distribution of Customers in each segment"
      ]
    },
    {
      "cell_type": "code",
      "metadata": {
        "id": "kcLQ9hVpZhcE",
        "outputId": "c33a5697-be44-4245-fad1-0d4f09c98db8"
      },
      "source": [
        "# Fitting K-Means to the dataset\n",
        "X3 = X_test\n",
        "kmeans = KMeans(n_clusters = 3, init = 'k-means++', random_state = 42)\n",
        "y_kmeans = kmeans.fit_predict(X3)\n",
        "plt.plot(y_kmeans, 'g^')\n",
        "plt.show()"
      ],
      "execution_count": null,
      "outputs": [
        {
          "output_type": "execute_result",
          "data": {
            "text/plain": [
              "[<matplotlib.lines.Line2D at 0x154f7ba97b8>]"
            ]
          },
          "metadata": {
            "tags": []
          },
          "execution_count": 267
        },
        {
          "output_type": "display_data",
          "data": {
            "image/png": "[encoded data removed]",
            "text/plain": [
              "<Figure size 432x288 with 1 Axes>"
            ]
          },
          "metadata": {
            "tags": []
          }
        }
      ]
    },
    {
      "cell_type": "markdown",
      "metadata": {
        "id": "Om_wdZ8cZhcE"
      },
      "source": [
        "#### Analysis: \n",
        "\n",
        "There are 3 optimal customer segments based on their buying behavior, most of the customers belong to Cluster # 1 & 2.\n",
        "\n",
        "#### Strategy: \n",
        "\n",
        "As the retail industry is very competitive, and companies are trying to exploit new market opportunities, our client can try to acquire customers in the 1st customer segment using suitable strategic actions; sales and marketing efforts, promotions, bundling etc."
      ]
    },
    {
      "cell_type": "markdown",
      "metadata": {
        "id": "8_zx521fZhcE"
      },
      "source": [
        "### Visualizing customer segments"
      ]
    },
    {
      "cell_type": "code",
      "metadata": {
        "id": "2kwFTFIPZhcE",
        "outputId": "548d0d71-6a1c-46c9-f313-39131d5be061"
      },
      "source": [
        "# Visualising the clusters\n",
        "plt.scatter(X3[y_kmeans == 0, 0], X3[y_kmeans == 0, 1], s = 100, c = 'red', label = 'Segment 1')\n",
        "plt.scatter(X3[y_kmeans == 1, 0], X3[y_kmeans == 1, 1], s = 100, c = 'blue', label = 'Segment 2')\n",
        "plt.scatter(X3[y_kmeans == 2, 0], X3[y_kmeans == 2, 1], s = 100, c = 'green', label = 'Segment 3')\n",
        "plt.scatter(kmeans.cluster_centers_[:, 0], kmeans.cluster_centers_[:, 1], s = 200, c = 'yellow', label = 'Centroids')\n",
        "plt.title('Customer segments')\n",
        "plt.legend()\n",
        "plt.show()"
      ],
      "execution_count": null,
      "outputs": [
        {
          "output_type": "execute_result",
          "data": {
            "text/plain": [
              "<matplotlib.collections.PathCollection at 0x1548deaa0f0>"
            ]
          },
          "metadata": {
            "tags": []
          },
          "execution_count": 268
        },
        {
          "output_type": "execute_result",
          "data": {
            "text/plain": [
              "<matplotlib.collections.PathCollection at 0x154f7228f60>"
            ]
          },
          "metadata": {
            "tags": []
          },
          "execution_count": 268
        },
        {
          "output_type": "execute_result",
          "data": {
            "text/plain": [
              "<matplotlib.collections.PathCollection at 0x1548deaaa90>"
            ]
          },
          "metadata": {
            "tags": []
          },
          "execution_count": 268
        },
        {
          "output_type": "execute_result",
          "data": {
            "text/plain": [
              "<matplotlib.collections.PathCollection at 0x1548deaae10>"
            ]
          },
          "metadata": {
            "tags": []
          },
          "execution_count": 268
        },
        {
          "output_type": "execute_result",
          "data": {
            "text/plain": [
              "Text(0.5,1,'Customer segments')"
            ]
          },
          "metadata": {
            "tags": []
          },
          "execution_count": 268
        },
        {
          "output_type": "execute_result",
          "data": {
            "text/plain": [
              "<matplotlib.legend.Legend at 0x1548de9a9e8>"
            ]
          },
          "metadata": {
            "tags": []
          },
          "execution_count": 268
        },
        {
          "output_type": "display_data",
          "data": {
            "image/png": "[encoded data removed]",
            "text/plain": [
              "<Figure size 432x288 with 1 Axes>"
            ]
          },
          "metadata": {
            "tags": []
          }
        }
      ]
    },
    {
      "cell_type": "markdown",
      "metadata": {
        "id": "Xh85IQuzZhcE"
      },
      "source": [
        "### Analysis:\n",
        "    \n",
        "There are some overlap between segment No. 3 with each of Segment No. 1 & 2 at the boundaries which we need to keep in mind while analyzing customers. \n",
        "\n",
        "The k-means clustering algorithm being a un-supervised learning algorithm, we can perform a quick visual check on the model's performance based on the visualization chart."
      ]
    },
    {
      "cell_type": "markdown",
      "metadata": {
        "id": "H4IPoKu8ZhcE"
      },
      "source": [
        "### Business Strategy:\n",
        "\n",
        "Customer segment # 1 & 2 have opportunities for growth and future expansion. As the retails industry is a saturated industry, hence customer segment # 3 may already be dominated by other retailers so our client can try to increaese sales in the 2 other cutomer segments (# 1 & 2) through suitable competitive positioning, pricing stratgey, cohesive sales & marketing efforts, promotions, bundling etc."
      ]
    },
    {
      "cell_type": "code",
      "metadata": {
        "id": "8dyy3wxVZhcE"
      },
      "source": [
        ""
      ],
      "execution_count": null,
      "outputs": []
    },
    {
      "cell_type": "markdown",
      "metadata": {
        "id": "_gu-up6XZhcE"
      },
      "source": [
        "### Customer Segments"
      ]
    },
    {
      "cell_type": "code",
      "metadata": {
        "id": "mqk-7bl6ZhcE"
      },
      "source": [
        "Customer_segment_class = pd.DataFrame(y_kmeans)\n",
        "Customer_segment_class.columns = [\"Customer_segment_class\"]\n",
        "X_test2 = X_test0.reset_index(drop=True)\n",
        "\n",
        "Customer_segments = pd.concat([Customer_segment_class, X_test2], axis = 1)\n",
        "# Customer_segments.head(5)"
      ],
      "execution_count": null,
      "outputs": []
    },
    {
      "cell_type": "markdown",
      "metadata": {
        "id": "lLuXV-SVZhcE"
      },
      "source": [
        "### Customer Segments"
      ]
    },
    {
      "cell_type": "code",
      "metadata": {
        "id": "fViYsP32ZhcE"
      },
      "source": [
        "# 1st Cluster\n",
        "mask = Customer_segments[\"Customer_segment_class\"] == 0\n",
        "Customer_segments_1 = Customer_segments[mask]\n",
        "\n",
        "# 2nd Cluster\n",
        "mask = Customer_segments[\"Customer_segment_class\"] == 1\n",
        "Customer_segments_2 = Customer_segments[mask]\n",
        "\n",
        "# 3rd Cluster\n",
        "mask = Customer_segments[\"Customer_segment_class\"] == 2\n",
        "Customer_segments_3 = Customer_segments[mask]"
      ],
      "execution_count": null,
      "outputs": []
    },
    {
      "cell_type": "markdown",
      "metadata": {
        "id": "ryZHXXGeZhcE"
      },
      "source": [
        "### Customer Segment Features"
      ]
    },
    {
      "cell_type": "markdown",
      "metadata": {
        "id": "bjywafeOZhcE"
      },
      "source": [
        "#### Regions"
      ]
    },
    {
      "cell_type": "code",
      "metadata": {
        "id": "fpb0RaHfZhcE",
        "outputId": "d780dab3-d964-414a-feaf-3cf6b6b25ddb"
      },
      "source": [
        "Customer_segments_1.groupby([\"Channel_1\", \"Channel_2\"]).size()\n",
        "Customer_segments_2.groupby([\"Channel_1\", \"Channel_2\"]).size()\n",
        "Customer_segments_3.groupby([\"Channel_1\", \"Channel_2\"]).size()"
      ],
      "execution_count": null,
      "outputs": [
        {
          "output_type": "execute_result",
          "data": {
            "text/plain": [
              "Channel_1  Channel_2\n",
              "0          1            18\n",
              "dtype: int64"
            ]
          },
          "metadata": {
            "tags": []
          },
          "execution_count": 271
        },
        {
          "output_type": "execute_result",
          "data": {
            "text/plain": [
              "Channel_1  Channel_2\n",
              "0          1             3\n",
              "1          0            18\n",
              "dtype: int64"
            ]
          },
          "metadata": {
            "tags": []
          },
          "execution_count": 271
        },
        {
          "output_type": "execute_result",
          "data": {
            "text/plain": [
              "Channel_1  Channel_2\n",
              "0          1            19\n",
              "1          0            52\n",
              "dtype: int64"
            ]
          },
          "metadata": {
            "tags": []
          },
          "execution_count": 271
        }
      ]
    },
    {
      "cell_type": "markdown",
      "metadata": {
        "id": "UUZyy-YTZhcE"
      },
      "source": [
        "#### Analysis: \n",
        "\n",
        "For customer segment 1: all customers are from Channel 2\n",
        "\n",
        "For customer segment 2: majority of customer are from Channel 2\n",
        "\n",
        "For customer segment 3: although majority of customers are from Channel 2, some also came from Channel 1."
      ]
    },
    {
      "cell_type": "code",
      "metadata": {
        "id": "b75P68jfZhcE",
        "outputId": "8031b8d2-92cd-4e5a-deb0-873b6cf701fb"
      },
      "source": [
        "Customer_segments_1.groupby([\"Region_1\", \"Region_2\", \"Region_3\"]).size()\n",
        "Customer_segments_2.groupby([\"Region_1\", \"Region_2\", \"Region_3\"]).size()\n",
        "Customer_segments_3.groupby([\"Region_1\", \"Region_2\", \"Region_3\"]).size()"
      ],
      "execution_count": null,
      "outputs": [
        {
          "output_type": "execute_result",
          "data": {
            "text/plain": [
              "Region_1  Region_2  Region_3\n",
              "0         0         1           13\n",
              "          1         0            2\n",
              "1         0         0            3\n",
              "dtype: int64"
            ]
          },
          "metadata": {
            "tags": []
          },
          "execution_count": 272
        },
        {
          "output_type": "execute_result",
          "data": {
            "text/plain": [
              "Region_1  Region_2  Region_3\n",
              "0         0         1           15\n",
              "          1         0            2\n",
              "1         0         0            4\n",
              "dtype: int64"
            ]
          },
          "metadata": {
            "tags": []
          },
          "execution_count": 272
        },
        {
          "output_type": "execute_result",
          "data": {
            "text/plain": [
              "Region_1  Region_2  Region_3\n",
              "0         0         1           52\n",
              "          1         0            8\n",
              "1         0         0           11\n",
              "dtype: int64"
            ]
          },
          "metadata": {
            "tags": []
          },
          "execution_count": 272
        }
      ]
    },
    {
      "cell_type": "markdown",
      "metadata": {
        "id": "eg1N8EvuZhcE"
      },
      "source": [
        "#### Analysis:\n",
        "    \n",
        "For all 3 customer segments: majority of customers are from Region 3\n",
        "\n",
        "So Region is not a key factor to segment customers."
      ]
    },
    {
      "cell_type": "markdown",
      "metadata": {
        "id": "7ezuYzinZhcE"
      },
      "source": [
        "#### Fresh, Milk & Grocery"
      ]
    },
    {
      "cell_type": "code",
      "metadata": {
        "id": "z2HrNBPLZhcE",
        "outputId": "e6abf73e-8210-4312-cc9c-025161a3093c"
      },
      "source": [
        "# Fresh\n",
        "\n",
        "plt.subplot(331)\n",
        "plt.title('Fresh_1')\n",
        "Output = None\n",
        "Customer_segments_1[\"Fresh\"].plot(kind = \"hist\", bins = 10)\n",
        "\n",
        "plt.subplot(332)\n",
        "plt.title('Freshs_2')\n",
        "Output = None\n",
        "Customer_segments_2[\"Fresh\"].plot(kind = \"hist\", bins = 10)\n",
        "\n",
        "plt.subplot(333)\n",
        "plt.title('Fresh_3')\n",
        "Output = None\n",
        "Customer_segments_3[\"Fresh\"].plot(kind = \"hist\", bins = 10)\n",
        "plt.tight_layout()\n",
        "\n",
        "# Milk\n",
        "\n",
        "plt.subplot(334)\n",
        "plt.title('Milk_1')\n",
        "Output = None\n",
        "Customer_segments_1[\"Milk\"].plot(kind = \"hist\", bins = 10)\n",
        "\n",
        "plt.subplot(335)\n",
        "plt.title('Milk_2')\n",
        "Output = None\n",
        "Customer_segments_2[\"Milk\"].plot(kind = \"hist\", bins = 10)\n",
        "\n",
        "plt.subplot(336)\n",
        "plt.title('Milk_3')\n",
        "Output = None\n",
        "Customer_segments_3[\"Milk\"].plot(kind = \"hist\", bins = 10)\n",
        "plt.tight_layout()\n",
        "\n",
        "# Grocery\n",
        "\n",
        "plt.subplot(337)\n",
        "plt.title('Grocery_1')\n",
        "Output = None\n",
        "Customer_segments_1[\"Grocery\"].plot(kind = \"hist\", bins = 10)\n",
        "\n",
        "plt.subplot(338)\n",
        "plt.title('Grocery_2')\n",
        "Output = None\n",
        "Customer_segments_2[\"Grocery\"].plot(kind = \"hist\", bins = 10)\n",
        "\n",
        "plt.subplot(339)\n",
        "plt.title('Grocery_3')\n",
        "Output = None\n",
        "Customer_segments_3[\"Grocery\"].plot(kind = \"hist\", bins = 10)\n",
        "plt.tight_layout()"
      ],
      "execution_count": null,
      "outputs": [
        {
          "output_type": "execute_result",
          "data": {
            "text/plain": [
              "<matplotlib.axes._subplots.AxesSubplot at 0x1548f289588>"
            ]
          },
          "metadata": {
            "tags": []
          },
          "execution_count": 273
        },
        {
          "output_type": "execute_result",
          "data": {
            "text/plain": [
              "Text(0.5,1,'Fresh_1')"
            ]
          },
          "metadata": {
            "tags": []
          },
          "execution_count": 273
        },
        {
          "output_type": "execute_result",
          "data": {
            "text/plain": [
              "<matplotlib.axes._subplots.AxesSubplot at 0x1548f289588>"
            ]
          },
          "metadata": {
            "tags": []
          },
          "execution_count": 273
        },
        {
          "output_type": "execute_result",
          "data": {
            "text/plain": [
              "<matplotlib.axes._subplots.AxesSubplot at 0x1548de9f0f0>"
            ]
          },
          "metadata": {
            "tags": []
          },
          "execution_count": 273
        },
        {
          "output_type": "execute_result",
          "data": {
            "text/plain": [
              "Text(0.5,1,'Freshs_2')"
            ]
          },
          "metadata": {
            "tags": []
          },
          "execution_count": 273
        },
        {
          "output_type": "execute_result",
          "data": {
            "text/plain": [
              "<matplotlib.axes._subplots.AxesSubplot at 0x1548de9f0f0>"
            ]
          },
          "metadata": {
            "tags": []
          },
          "execution_count": 273
        },
        {
          "output_type": "execute_result",
          "data": {
            "text/plain": [
              "<matplotlib.axes._subplots.AxesSubplot at 0x1548eba9048>"
            ]
          },
          "metadata": {
            "tags": []
          },
          "execution_count": 273
        },
        {
          "output_type": "execute_result",
          "data": {
            "text/plain": [
              "Text(0.5,1,'Fresh_3')"
            ]
          },
          "metadata": {
            "tags": []
          },
          "execution_count": 273
        },
        {
          "output_type": "execute_result",
          "data": {
            "text/plain": [
              "<matplotlib.axes._subplots.AxesSubplot at 0x1548eba9048>"
            ]
          },
          "metadata": {
            "tags": []
          },
          "execution_count": 273
        },
        {
          "output_type": "execute_result",
          "data": {
            "text/plain": [
              "<matplotlib.axes._subplots.AxesSubplot at 0x15490129ba8>"
            ]
          },
          "metadata": {
            "tags": []
          },
          "execution_count": 273
        },
        {
          "output_type": "execute_result",
          "data": {
            "text/plain": [
              "Text(0.5,1,'Milk_1')"
            ]
          },
          "metadata": {
            "tags": []
          },
          "execution_count": 273
        },
        {
          "output_type": "execute_result",
          "data": {
            "text/plain": [
              "<matplotlib.axes._subplots.AxesSubplot at 0x15490129ba8>"
            ]
          },
          "metadata": {
            "tags": []
          },
          "execution_count": 273
        },
        {
          "output_type": "execute_result",
          "data": {
            "text/plain": [
              "<matplotlib.axes._subplots.AxesSubplot at 0x1549030eef0>"
            ]
          },
          "metadata": {
            "tags": []
          },
          "execution_count": 273
        },
        {
          "output_type": "execute_result",
          "data": {
            "text/plain": [
              "Text(0.5,1,'Milk_2')"
            ]
          },
          "metadata": {
            "tags": []
          },
          "execution_count": 273
        },
        {
          "output_type": "execute_result",
          "data": {
            "text/plain": [
              "<matplotlib.axes._subplots.AxesSubplot at 0x1549030eef0>"
            ]
          },
          "metadata": {
            "tags": []
          },
          "execution_count": 273
        },
        {
          "output_type": "execute_result",
          "data": {
            "text/plain": [
              "<matplotlib.axes._subplots.AxesSubplot at 0x1548f6f27b8>"
            ]
          },
          "metadata": {
            "tags": []
          },
          "execution_count": 273
        },
        {
          "output_type": "execute_result",
          "data": {
            "text/plain": [
              "Text(0.5,1,'Milk_3')"
            ]
          },
          "metadata": {
            "tags": []
          },
          "execution_count": 273
        },
        {
          "output_type": "execute_result",
          "data": {
            "text/plain": [
              "<matplotlib.axes._subplots.AxesSubplot at 0x1548f6f27b8>"
            ]
          },
          "metadata": {
            "tags": []
          },
          "execution_count": 273
        },
        {
          "output_type": "execute_result",
          "data": {
            "text/plain": [
              "<matplotlib.axes._subplots.AxesSubplot at 0x15492971f28>"
            ]
          },
          "metadata": {
            "tags": []
          },
          "execution_count": 273
        },
        {
          "output_type": "execute_result",
          "data": {
            "text/plain": [
              "Text(0.5,1,'Grocery_1')"
            ]
          },
          "metadata": {
            "tags": []
          },
          "execution_count": 273
        },
        {
          "output_type": "execute_result",
          "data": {
            "text/plain": [
              "<matplotlib.axes._subplots.AxesSubplot at 0x15492971f28>"
            ]
          },
          "metadata": {
            "tags": []
          },
          "execution_count": 273
        },
        {
          "output_type": "execute_result",
          "data": {
            "text/plain": [
              "<matplotlib.axes._subplots.AxesSubplot at 0x154981bb080>"
            ]
          },
          "metadata": {
            "tags": []
          },
          "execution_count": 273
        },
        {
          "output_type": "execute_result",
          "data": {
            "text/plain": [
              "Text(0.5,1,'Grocery_2')"
            ]
          },
          "metadata": {
            "tags": []
          },
          "execution_count": 273
        },
        {
          "output_type": "execute_result",
          "data": {
            "text/plain": [
              "<matplotlib.axes._subplots.AxesSubplot at 0x154981bb080>"
            ]
          },
          "metadata": {
            "tags": []
          },
          "execution_count": 273
        },
        {
          "output_type": "execute_result",
          "data": {
            "text/plain": [
              "<matplotlib.axes._subplots.AxesSubplot at 0x154a6f62828>"
            ]
          },
          "metadata": {
            "tags": []
          },
          "execution_count": 273
        },
        {
          "output_type": "execute_result",
          "data": {
            "text/plain": [
              "Text(0.5,1,'Grocery_3')"
            ]
          },
          "metadata": {
            "tags": []
          },
          "execution_count": 273
        },
        {
          "output_type": "execute_result",
          "data": {
            "text/plain": [
              "<matplotlib.axes._subplots.AxesSubplot at 0x154a6f62828>"
            ]
          },
          "metadata": {
            "tags": []
          },
          "execution_count": 273
        },
        {
          "output_type": "display_data",
          "data": {
            "image/png": "[encoded data removed]",
            "text/plain": [
              "<Figure size 432x288 with 9 Axes>"
            ]
          },
          "metadata": {
            "tags": []
          }
        }
      ]
    },
    {
      "cell_type": "markdown",
      "metadata": {
        "id": "_KxRVt5KZhcE"
      },
      "source": [
        "#### Analysis: \n",
        "\n",
        "Fresh: Segment # 2 makes significant purchases compared to other segments folloewed by Segment # 3 \n",
        "\n",
        "Milk: Segment # 1 makes significant purchases compared to other segments\n",
        "    \n",
        "Grocery: Segnment # 1 makes significant purchases compared to other segments"
      ]
    },
    {
      "cell_type": "markdown",
      "metadata": {
        "id": "Y1ZAeZWgZhcE"
      },
      "source": [
        "#### Frozen, Detergent Paper & Delicassen"
      ]
    },
    {
      "cell_type": "code",
      "metadata": {
        "id": "qd5LLtY7ZhcE",
        "outputId": "c5851e05-65ee-4eb4-9766-8ff8461ee045"
      },
      "source": [
        "# Frozen\n",
        "\n",
        "plt.subplot(331)\n",
        "plt.title('Frozen_1')\n",
        "Customer_segments_1[\"Frozen\"].plot(kind = \"hist\", bins = 10)\n",
        "\n",
        "plt.subplot(332)\n",
        "plt.title('Frozen_2')\n",
        "Customer_segments_2[\"Frozen\"].plot(kind = \"hist\", bins = 10)\n",
        "\n",
        "plt.subplot(333)\n",
        "plt.title('Frozen_3')\n",
        "Customer_segments_3[\"Frozen\"].plot(kind = \"hist\", bins = 10)\n",
        "plt.tight_layout()\n",
        "\n",
        "# Detergent Paper\n",
        "\n",
        "plt.subplot(334)\n",
        "plt.title('Detergent_1')\n",
        "Customer_segments_1[\"Detergents_Paper\"].plot(kind = \"hist\", bins = 10)\n",
        "\n",
        "plt.subplot(335)\n",
        "plt.title('Detergent_2')\n",
        "Customer_segments_2[\"Detergents_Paper\"].plot(kind = \"hist\", bins = 10)\n",
        "\n",
        "plt.subplot(336)\n",
        "plt.title('Detergent_3')\n",
        "Customer_segments_3[\"Detergents_Paper\"].plot(kind = \"hist\", bins = 10)\n",
        "plt.tight_layout()\n",
        "\n",
        "# Delicassen\n",
        "\n",
        "plt.subplot(337)\n",
        "plt.title('Delicassen_1')\n",
        "Customer_segments_1[\"Delicassen\"].plot(kind = \"hist\", bins = 10)\n",
        "\n",
        "plt.subplot(338)\n",
        "plt.title('Delicassen_2')\n",
        "Customer_segments_2[\"Delicassen\"].plot(kind = \"hist\", bins = 10)\n",
        "\n",
        "plt.subplot(339)\n",
        "plt.title('Delicassen_3')\n",
        "Customer_segments_3[\"Delicassen\"].plot(kind = \"hist\", bins = 10)\n",
        "plt.tight_layout()"
      ],
      "execution_count": null,
      "outputs": [
        {
          "output_type": "execute_result",
          "data": {
            "text/plain": [
              "<matplotlib.axes._subplots.AxesSubplot at 0x154f3ec6b70>"
            ]
          },
          "metadata": {
            "tags": []
          },
          "execution_count": 274
        },
        {
          "output_type": "execute_result",
          "data": {
            "text/plain": [
              "Text(0.5,1,'Frozen_1')"
            ]
          },
          "metadata": {
            "tags": []
          },
          "execution_count": 274
        },
        {
          "output_type": "execute_result",
          "data": {
            "text/plain": [
              "<matplotlib.axes._subplots.AxesSubplot at 0x154f3ec6b70>"
            ]
          },
          "metadata": {
            "tags": []
          },
          "execution_count": 274
        },
        {
          "output_type": "execute_result",
          "data": {
            "text/plain": [
              "<matplotlib.axes._subplots.AxesSubplot at 0x154f7e2b8d0>"
            ]
          },
          "metadata": {
            "tags": []
          },
          "execution_count": 274
        },
        {
          "output_type": "execute_result",
          "data": {
            "text/plain": [
              "Text(0.5,1,'Frozen_2')"
            ]
          },
          "metadata": {
            "tags": []
          },
          "execution_count": 274
        },
        {
          "output_type": "execute_result",
          "data": {
            "text/plain": [
              "<matplotlib.axes._subplots.AxesSubplot at 0x154f7e2b8d0>"
            ]
          },
          "metadata": {
            "tags": []
          },
          "execution_count": 274
        },
        {
          "output_type": "execute_result",
          "data": {
            "text/plain": [
              "<matplotlib.axes._subplots.AxesSubplot at 0x154f5b8a400>"
            ]
          },
          "metadata": {
            "tags": []
          },
          "execution_count": 274
        },
        {
          "output_type": "execute_result",
          "data": {
            "text/plain": [
              "Text(0.5,1,'Frozen_3')"
            ]
          },
          "metadata": {
            "tags": []
          },
          "execution_count": 274
        },
        {
          "output_type": "execute_result",
          "data": {
            "text/plain": [
              "<matplotlib.axes._subplots.AxesSubplot at 0x154f5b8a400>"
            ]
          },
          "metadata": {
            "tags": []
          },
          "execution_count": 274
        },
        {
          "output_type": "execute_result",
          "data": {
            "text/plain": [
              "<matplotlib.axes._subplots.AxesSubplot at 0x154f7bace80>"
            ]
          },
          "metadata": {
            "tags": []
          },
          "execution_count": 274
        },
        {
          "output_type": "execute_result",
          "data": {
            "text/plain": [
              "Text(0.5,1,'Detergent_1')"
            ]
          },
          "metadata": {
            "tags": []
          },
          "execution_count": 274
        },
        {
          "output_type": "execute_result",
          "data": {
            "text/plain": [
              "<matplotlib.axes._subplots.AxesSubplot at 0x154f7bace80>"
            ]
          },
          "metadata": {
            "tags": []
          },
          "execution_count": 274
        },
        {
          "output_type": "execute_result",
          "data": {
            "text/plain": [
              "<matplotlib.axes._subplots.AxesSubplot at 0x154f7ff85c0>"
            ]
          },
          "metadata": {
            "tags": []
          },
          "execution_count": 274
        },
        {
          "output_type": "execute_result",
          "data": {
            "text/plain": [
              "Text(0.5,1,'Detergent_2')"
            ]
          },
          "metadata": {
            "tags": []
          },
          "execution_count": 274
        },
        {
          "output_type": "execute_result",
          "data": {
            "text/plain": [
              "<matplotlib.axes._subplots.AxesSubplot at 0x154f7ff85c0>"
            ]
          },
          "metadata": {
            "tags": []
          },
          "execution_count": 274
        },
        {
          "output_type": "execute_result",
          "data": {
            "text/plain": [
              "<matplotlib.axes._subplots.AxesSubplot at 0x1548f5a0eb8>"
            ]
          },
          "metadata": {
            "tags": []
          },
          "execution_count": 274
        },
        {
          "output_type": "execute_result",
          "data": {
            "text/plain": [
              "Text(0.5,1,'Detergent_3')"
            ]
          },
          "metadata": {
            "tags": []
          },
          "execution_count": 274
        },
        {
          "output_type": "execute_result",
          "data": {
            "text/plain": [
              "<matplotlib.axes._subplots.AxesSubplot at 0x1548f5a0eb8>"
            ]
          },
          "metadata": {
            "tags": []
          },
          "execution_count": 274
        },
        {
          "output_type": "execute_result",
          "data": {
            "text/plain": [
              "<matplotlib.axes._subplots.AxesSubplot at 0x154904c0780>"
            ]
          },
          "metadata": {
            "tags": []
          },
          "execution_count": 274
        },
        {
          "output_type": "execute_result",
          "data": {
            "text/plain": [
              "Text(0.5,1,'Delicassen_1')"
            ]
          },
          "metadata": {
            "tags": []
          },
          "execution_count": 274
        },
        {
          "output_type": "execute_result",
          "data": {
            "text/plain": [
              "<matplotlib.axes._subplots.AxesSubplot at 0x154904c0780>"
            ]
          },
          "metadata": {
            "tags": []
          },
          "execution_count": 274
        },
        {
          "output_type": "execute_result",
          "data": {
            "text/plain": [
              "<matplotlib.axes._subplots.AxesSubplot at 0x15498378390>"
            ]
          },
          "metadata": {
            "tags": []
          },
          "execution_count": 274
        },
        {
          "output_type": "execute_result",
          "data": {
            "text/plain": [
              "Text(0.5,1,'Delicassen_2')"
            ]
          },
          "metadata": {
            "tags": []
          },
          "execution_count": 274
        },
        {
          "output_type": "execute_result",
          "data": {
            "text/plain": [
              "<matplotlib.axes._subplots.AxesSubplot at 0x15498378390>"
            ]
          },
          "metadata": {
            "tags": []
          },
          "execution_count": 274
        },
        {
          "output_type": "execute_result",
          "data": {
            "text/plain": [
              "<matplotlib.axes._subplots.AxesSubplot at 0x15498f62320>"
            ]
          },
          "metadata": {
            "tags": []
          },
          "execution_count": 274
        },
        {
          "output_type": "execute_result",
          "data": {
            "text/plain": [
              "Text(0.5,1,'Delicassen_3')"
            ]
          },
          "metadata": {
            "tags": []
          },
          "execution_count": 274
        },
        {
          "output_type": "execute_result",
          "data": {
            "text/plain": [
              "<matplotlib.axes._subplots.AxesSubplot at 0x15498f62320>"
            ]
          },
          "metadata": {
            "tags": []
          },
          "execution_count": 274
        },
        {
          "output_type": "display_data",
          "data": {
            "image/png": "[encoded data removed]",
            "text/plain": [
              "<Figure size 432x288 with 9 Axes>"
            ]
          },
          "metadata": {
            "tags": []
          }
        }
      ]
    },
    {
      "cell_type": "markdown",
      "metadata": {
        "id": "lKqaALS8ZhcE"
      },
      "source": [
        "#### Analysis:\n",
        "    \n",
        "Frozen: Segment # 2 makes significant purchases followed by Segment # 3\n",
        "\n",
        "Detergent_Paper: Segment # 1 is a major purchaser\n",
        "\n",
        "Delicassen: Segnment # 2 on average makes most purchases, followed by Segmnet # 1"
      ]
    },
    {
      "cell_type": "markdown",
      "metadata": {
        "id": "IHTa2Z0-ZhcE"
      },
      "source": [
        "## Applying 80/20 Rule (Pareto principle)"
      ]
    },
    {
      "cell_type": "markdown",
      "metadata": {
        "id": "0bYBnNzkZhcE"
      },
      "source": [
        "### Top 20% customers, products & geographic locations resulting in 80% of $ sales"
      ]
    },
    {
      "cell_type": "markdown",
      "metadata": {
        "id": "R5aQvClsZhcE"
      },
      "source": [
        "##### Importing the dataset"
      ]
    },
    {
      "cell_type": "markdown",
      "metadata": {
        "id": "0OhmgFV7ZhcE"
      },
      "source": [
        "Data source: \n",
        "\n",
        "https://archive.ics.uci.edu/ml/datasets/online+retail"
      ]
    },
    {
      "cell_type": "code",
      "metadata": {
        "id": "Li2_2zOEZhcE",
        "outputId": "ec07fdbe-67a8-4198-cc71-d6907f371929"
      },
      "source": [
        "# Importing the dataset\n",
        "\n",
        "dataset = pd.read_excel('Consumer behavior.xlsx')\n",
        "dataset.shape\n",
        "dataset.head(10)"
      ],
      "execution_count": null,
      "outputs": [
        {
          "output_type": "execute_result",
          "data": {
            "text/plain": [
              "(541909, 8)"
            ]
          },
          "metadata": {
            "tags": []
          },
          "execution_count": 275
        },
        {
          "output_type": "execute_result",
          "data": {
            "text/html": [
              "<div>\n",
              "<style scoped>\n",
              "    .dataframe tbody tr th:only-of-type {\n",
              "        vertical-align: middle;\n",
              "    }\n",
              "\n",
              "    .dataframe tbody tr th {\n",
              "        vertical-align: top;\n",
              "    }\n",
              "\n",
              "    .dataframe thead th {\n",
              "        text-align: right;\n",
              "    }\n",
              "</style>\n",
              "<table border=\"1\" class=\"dataframe\">\n",
              "  <thead>\n",
              "    <tr style=\"text-align: right;\">\n",
              "      <th></th>\n",
              "      <th>InvoiceNo</th>\n",
              "      <th>StockCode</th>\n",
              "      <th>Description</th>\n",
              "      <th>Quantity</th>\n",
              "      <th>InvoiceDate</th>\n",
              "      <th>UnitPrice</th>\n",
              "      <th>CustomerID</th>\n",
              "      <th>Country</th>\n",
              "    </tr>\n",
              "  </thead>\n",
              "  <tbody>\n",
              "    <tr>\n",
              "      <th>0</th>\n",
              "      <td>536365</td>\n",
              "      <td>85123A</td>\n",
              "      <td>WHITE HANGING HEART T-LIGHT HOLDER</td>\n",
              "      <td>6</td>\n",
              "      <td>2010-12-01 08:26:00</td>\n",
              "      <td>2.55</td>\n",
              "      <td>17850.0</td>\n",
              "      <td>United Kingdom</td>\n",
              "    </tr>\n",
              "    <tr>\n",
              "      <th>1</th>\n",
              "      <td>536365</td>\n",
              "      <td>71053</td>\n",
              "      <td>WHITE METAL LANTERN</td>\n",
              "      <td>6</td>\n",
              "      <td>2010-12-01 08:26:00</td>\n",
              "      <td>3.39</td>\n",
              "      <td>17850.0</td>\n",
              "      <td>United Kingdom</td>\n",
              "    </tr>\n",
              "    <tr>\n",
              "      <th>2</th>\n",
              "      <td>536365</td>\n",
              "      <td>84406B</td>\n",
              "      <td>CREAM CUPID HEARTS COAT HANGER</td>\n",
              "      <td>8</td>\n",
              "      <td>2010-12-01 08:26:00</td>\n",
              "      <td>2.75</td>\n",
              "      <td>17850.0</td>\n",
              "      <td>United Kingdom</td>\n",
              "    </tr>\n",
              "    <tr>\n",
              "      <th>3</th>\n",
              "      <td>536365</td>\n",
              "      <td>84029G</td>\n",
              "      <td>KNITTED UNION FLAG HOT WATER BOTTLE</td>\n",
              "      <td>6</td>\n",
              "      <td>2010-12-01 08:26:00</td>\n",
              "      <td>3.39</td>\n",
              "      <td>17850.0</td>\n",
              "      <td>United Kingdom</td>\n",
              "    </tr>\n",
              "    <tr>\n",
              "      <th>4</th>\n",
              "      <td>536365</td>\n",
              "      <td>84029E</td>\n",
              "      <td>RED WOOLLY HOTTIE WHITE HEART.</td>\n",
              "      <td>6</td>\n",
              "      <td>2010-12-01 08:26:00</td>\n",
              "      <td>3.39</td>\n",
              "      <td>17850.0</td>\n",
              "      <td>United Kingdom</td>\n",
              "    </tr>\n",
              "    <tr>\n",
              "      <th>5</th>\n",
              "      <td>536365</td>\n",
              "      <td>22752</td>\n",
              "      <td>SET 7 BABUSHKA NESTING BOXES</td>\n",
              "      <td>2</td>\n",
              "      <td>2010-12-01 08:26:00</td>\n",
              "      <td>7.65</td>\n",
              "      <td>17850.0</td>\n",
              "      <td>United Kingdom</td>\n",
              "    </tr>\n",
              "    <tr>\n",
              "      <th>6</th>\n",
              "      <td>536365</td>\n",
              "      <td>21730</td>\n",
              "      <td>GLASS STAR FROSTED T-LIGHT HOLDER</td>\n",
              "      <td>6</td>\n",
              "      <td>2010-12-01 08:26:00</td>\n",
              "      <td>4.25</td>\n",
              "      <td>17850.0</td>\n",
              "      <td>United Kingdom</td>\n",
              "    </tr>\n",
              "    <tr>\n",
              "      <th>7</th>\n",
              "      <td>536366</td>\n",
              "      <td>22633</td>\n",
              "      <td>HAND WARMER UNION JACK</td>\n",
              "      <td>6</td>\n",
              "      <td>2010-12-01 08:28:00</td>\n",
              "      <td>1.85</td>\n",
              "      <td>17850.0</td>\n",
              "      <td>United Kingdom</td>\n",
              "    </tr>\n",
              "    <tr>\n",
              "      <th>8</th>\n",
              "      <td>536366</td>\n",
              "      <td>22632</td>\n",
              "      <td>HAND WARMER RED POLKA DOT</td>\n",
              "      <td>6</td>\n",
              "      <td>2010-12-01 08:28:00</td>\n",
              "      <td>1.85</td>\n",
              "      <td>17850.0</td>\n",
              "      <td>United Kingdom</td>\n",
              "    </tr>\n",
              "    <tr>\n",
              "      <th>9</th>\n",
              "      <td>536367</td>\n",
              "      <td>84879</td>\n",
              "      <td>ASSORTED COLOUR BIRD ORNAMENT</td>\n",
              "      <td>32</td>\n",
              "      <td>2010-12-01 08:34:00</td>\n",
              "      <td>1.69</td>\n",
              "      <td>13047.0</td>\n",
              "      <td>United Kingdom</td>\n",
              "    </tr>\n",
              "  </tbody>\n",
              "</table>\n",
              "</div>"
            ],
            "text/plain": [
              "  InvoiceNo StockCode                          Description  Quantity  \\\n",
              "0    536365    85123A   WHITE HANGING HEART T-LIGHT HOLDER         6   \n",
              "1    536365     71053                  WHITE METAL LANTERN         6   \n",
              "2    536365    84406B       CREAM CUPID HEARTS COAT HANGER         8   \n",
              "3    536365    84029G  KNITTED UNION FLAG HOT WATER BOTTLE         6   \n",
              "4    536365    84029E       RED WOOLLY HOTTIE WHITE HEART.         6   \n",
              "5    536365     22752         SET 7 BABUSHKA NESTING BOXES         2   \n",
              "6    536365     21730    GLASS STAR FROSTED T-LIGHT HOLDER         6   \n",
              "7    536366     22633               HAND WARMER UNION JACK         6   \n",
              "8    536366     22632            HAND WARMER RED POLKA DOT         6   \n",
              "9    536367     84879        ASSORTED COLOUR BIRD ORNAMENT        32   \n",
              "\n",
              "          InvoiceDate  UnitPrice  CustomerID         Country  \n",
              "0 2010-12-01 08:26:00       2.55     17850.0  United Kingdom  \n",
              "1 2010-12-01 08:26:00       3.39     17850.0  United Kingdom  \n",
              "2 2010-12-01 08:26:00       2.75     17850.0  United Kingdom  \n",
              "3 2010-12-01 08:26:00       3.39     17850.0  United Kingdom  \n",
              "4 2010-12-01 08:26:00       3.39     17850.0  United Kingdom  \n",
              "5 2010-12-01 08:26:00       7.65     17850.0  United Kingdom  \n",
              "6 2010-12-01 08:26:00       4.25     17850.0  United Kingdom  \n",
              "7 2010-12-01 08:28:00       1.85     17850.0  United Kingdom  \n",
              "8 2010-12-01 08:28:00       1.85     17850.0  United Kingdom  \n",
              "9 2010-12-01 08:34:00       1.69     13047.0  United Kingdom  "
            ]
          },
          "metadata": {
            "tags": []
          },
          "execution_count": 275
        }
      ]
    },
    {
      "cell_type": "markdown",
      "metadata": {
        "id": "mpWEomNiZhcE"
      },
      "source": [
        "#### Analysis: \n",
        "\n",
        "Missing data are concentrated in the customerID column "
      ]
    },
    {
      "cell_type": "markdown",
      "metadata": {
        "id": "zFDQL12qZhcE"
      },
      "source": [
        "### Missing data"
      ]
    },
    {
      "cell_type": "code",
      "metadata": {
        "id": "CCQPVUsxZhcE",
        "outputId": "f685920a-4df9-4997-bbea-57980e6cca06"
      },
      "source": [
        "# Removing missing data\n",
        "\n",
        "dataset = dataset.dropna()\n",
        "dataset.info()"
      ],
      "execution_count": null,
      "outputs": [
        {
          "output_type": "stream",
          "text": [
            "<class 'pandas.core.frame.DataFrame'>\n",
            "Int64Index: 406829 entries, 0 to 541908\n",
            "Data columns (total 8 columns):\n",
            "InvoiceNo      406829 non-null object\n",
            "StockCode      406829 non-null object\n",
            "Description    406829 non-null object\n",
            "Quantity       406829 non-null int64\n",
            "InvoiceDate    406829 non-null datetime64[ns]\n",
            "UnitPrice      406829 non-null float64\n",
            "CustomerID     406829 non-null float64\n",
            "Country        406829 non-null object\n",
            "dtypes: datetime64[ns](1), float64(2), int64(1), object(4)\n",
            "memory usage: 27.9+ MB\n"
          ],
          "name": "stdout"
        }
      ]
    },
    {
      "cell_type": "markdown",
      "metadata": {
        "id": "Ci8KPS_0ZhcE"
      },
      "source": [
        "### Data Exploration"
      ]
    },
    {
      "cell_type": "code",
      "metadata": {
        "id": "dfDUJ_i5ZhcE",
        "outputId": "19dde666-2064-4a56-9d1a-346763c250fc"
      },
      "source": [
        "# Data Exploration\n",
        "\n",
        "# Quantity\n",
        "dataset.sort_values(\"Quantity\", ascending = False).head(5)"
      ],
      "execution_count": null,
      "outputs": [
        {
          "output_type": "execute_result",
          "data": {
            "text/html": [
              "<div>\n",
              "<style scoped>\n",
              "    .dataframe tbody tr th:only-of-type {\n",
              "        vertical-align: middle;\n",
              "    }\n",
              "\n",
              "    .dataframe tbody tr th {\n",
              "        vertical-align: top;\n",
              "    }\n",
              "\n",
              "    .dataframe thead th {\n",
              "        text-align: right;\n",
              "    }\n",
              "</style>\n",
              "<table border=\"1\" class=\"dataframe\">\n",
              "  <thead>\n",
              "    <tr style=\"text-align: right;\">\n",
              "      <th></th>\n",
              "      <th>InvoiceNo</th>\n",
              "      <th>StockCode</th>\n",
              "      <th>Description</th>\n",
              "      <th>Quantity</th>\n",
              "      <th>InvoiceDate</th>\n",
              "      <th>UnitPrice</th>\n",
              "      <th>CustomerID</th>\n",
              "      <th>Country</th>\n",
              "    </tr>\n",
              "  </thead>\n",
              "  <tbody>\n",
              "    <tr>\n",
              "      <th>540421</th>\n",
              "      <td>581483</td>\n",
              "      <td>23843</td>\n",
              "      <td>PAPER CRAFT , LITTLE BIRDIE</td>\n",
              "      <td>80995</td>\n",
              "      <td>2011-12-09 09:15:00</td>\n",
              "      <td>2.08</td>\n",
              "      <td>16446.0</td>\n",
              "      <td>United Kingdom</td>\n",
              "    </tr>\n",
              "    <tr>\n",
              "      <th>61619</th>\n",
              "      <td>541431</td>\n",
              "      <td>23166</td>\n",
              "      <td>MEDIUM CERAMIC TOP STORAGE JAR</td>\n",
              "      <td>74215</td>\n",
              "      <td>2011-01-18 10:01:00</td>\n",
              "      <td>1.04</td>\n",
              "      <td>12346.0</td>\n",
              "      <td>United Kingdom</td>\n",
              "    </tr>\n",
              "    <tr>\n",
              "      <th>502122</th>\n",
              "      <td>578841</td>\n",
              "      <td>84826</td>\n",
              "      <td>ASSTD DESIGN 3D PAPER STICKERS</td>\n",
              "      <td>12540</td>\n",
              "      <td>2011-11-25 15:57:00</td>\n",
              "      <td>0.00</td>\n",
              "      <td>13256.0</td>\n",
              "      <td>United Kingdom</td>\n",
              "    </tr>\n",
              "    <tr>\n",
              "      <th>421632</th>\n",
              "      <td>573008</td>\n",
              "      <td>84077</td>\n",
              "      <td>WORLD WAR 2 GLIDERS ASSTD DESIGNS</td>\n",
              "      <td>4800</td>\n",
              "      <td>2011-10-27 12:26:00</td>\n",
              "      <td>0.21</td>\n",
              "      <td>12901.0</td>\n",
              "      <td>United Kingdom</td>\n",
              "    </tr>\n",
              "    <tr>\n",
              "      <th>206121</th>\n",
              "      <td>554868</td>\n",
              "      <td>22197</td>\n",
              "      <td>SMALL POPCORN HOLDER</td>\n",
              "      <td>4300</td>\n",
              "      <td>2011-05-27 10:52:00</td>\n",
              "      <td>0.72</td>\n",
              "      <td>13135.0</td>\n",
              "      <td>United Kingdom</td>\n",
              "    </tr>\n",
              "  </tbody>\n",
              "</table>\n",
              "</div>"
            ],
            "text/plain": [
              "       InvoiceNo StockCode                        Description  Quantity  \\\n",
              "540421    581483     23843        PAPER CRAFT , LITTLE BIRDIE     80995   \n",
              "61619     541431     23166     MEDIUM CERAMIC TOP STORAGE JAR     74215   \n",
              "502122    578841     84826     ASSTD DESIGN 3D PAPER STICKERS     12540   \n",
              "421632    573008     84077  WORLD WAR 2 GLIDERS ASSTD DESIGNS      4800   \n",
              "206121    554868     22197               SMALL POPCORN HOLDER      4300   \n",
              "\n",
              "               InvoiceDate  UnitPrice  CustomerID         Country  \n",
              "540421 2011-12-09 09:15:00       2.08     16446.0  United Kingdom  \n",
              "61619  2011-01-18 10:01:00       1.04     12346.0  United Kingdom  \n",
              "502122 2011-11-25 15:57:00       0.00     13256.0  United Kingdom  \n",
              "421632 2011-10-27 12:26:00       0.21     12901.0  United Kingdom  \n",
              "206121 2011-05-27 10:52:00       0.72     13135.0  United Kingdom  "
            ]
          },
          "metadata": {
            "tags": []
          },
          "execution_count": 277
        }
      ]
    },
    {
      "cell_type": "code",
      "metadata": {
        "id": "hNph4Z2mZhcE",
        "outputId": "a2769a66-03b5-414b-8982-471fc18cd023"
      },
      "source": [
        "dataset.sort_values(\"Quantity\", ascending = False).tail(5)"
      ],
      "execution_count": null,
      "outputs": [
        {
          "output_type": "execute_result",
          "data": {
            "text/html": [
              "<div>\n",
              "<style scoped>\n",
              "    .dataframe tbody tr th:only-of-type {\n",
              "        vertical-align: middle;\n",
              "    }\n",
              "\n",
              "    .dataframe tbody tr th {\n",
              "        vertical-align: top;\n",
              "    }\n",
              "\n",
              "    .dataframe thead th {\n",
              "        text-align: right;\n",
              "    }\n",
              "</style>\n",
              "<table border=\"1\" class=\"dataframe\">\n",
              "  <thead>\n",
              "    <tr style=\"text-align: right;\">\n",
              "      <th></th>\n",
              "      <th>InvoiceNo</th>\n",
              "      <th>StockCode</th>\n",
              "      <th>Description</th>\n",
              "      <th>Quantity</th>\n",
              "      <th>InvoiceDate</th>\n",
              "      <th>UnitPrice</th>\n",
              "      <th>CustomerID</th>\n",
              "      <th>Country</th>\n",
              "    </tr>\n",
              "  </thead>\n",
              "  <tbody>\n",
              "    <tr>\n",
              "      <th>160144</th>\n",
              "      <td>C550456</td>\n",
              "      <td>21175</td>\n",
              "      <td>GIN + TONIC DIET METAL SIGN</td>\n",
              "      <td>-2000</td>\n",
              "      <td>2011-04-18 13:08:00</td>\n",
              "      <td>1.85</td>\n",
              "      <td>15749.0</td>\n",
              "      <td>United Kingdom</td>\n",
              "    </tr>\n",
              "    <tr>\n",
              "      <th>160145</th>\n",
              "      <td>C550456</td>\n",
              "      <td>21108</td>\n",
              "      <td>FAIRY CAKE FLANNEL ASSORTED COLOUR</td>\n",
              "      <td>-3114</td>\n",
              "      <td>2011-04-18 13:08:00</td>\n",
              "      <td>2.10</td>\n",
              "      <td>15749.0</td>\n",
              "      <td>United Kingdom</td>\n",
              "    </tr>\n",
              "    <tr>\n",
              "      <th>4287</th>\n",
              "      <td>C536757</td>\n",
              "      <td>84347</td>\n",
              "      <td>ROTATING SILVER ANGELS T-LIGHT HLDR</td>\n",
              "      <td>-9360</td>\n",
              "      <td>2010-12-02 14:23:00</td>\n",
              "      <td>0.03</td>\n",
              "      <td>15838.0</td>\n",
              "      <td>United Kingdom</td>\n",
              "    </tr>\n",
              "    <tr>\n",
              "      <th>61624</th>\n",
              "      <td>C541433</td>\n",
              "      <td>23166</td>\n",
              "      <td>MEDIUM CERAMIC TOP STORAGE JAR</td>\n",
              "      <td>-74215</td>\n",
              "      <td>2011-01-18 10:17:00</td>\n",
              "      <td>1.04</td>\n",
              "      <td>12346.0</td>\n",
              "      <td>United Kingdom</td>\n",
              "    </tr>\n",
              "    <tr>\n",
              "      <th>540422</th>\n",
              "      <td>C581484</td>\n",
              "      <td>23843</td>\n",
              "      <td>PAPER CRAFT , LITTLE BIRDIE</td>\n",
              "      <td>-80995</td>\n",
              "      <td>2011-12-09 09:27:00</td>\n",
              "      <td>2.08</td>\n",
              "      <td>16446.0</td>\n",
              "      <td>United Kingdom</td>\n",
              "    </tr>\n",
              "  </tbody>\n",
              "</table>\n",
              "</div>"
            ],
            "text/plain": [
              "       InvoiceNo StockCode                          Description  Quantity  \\\n",
              "160144   C550456     21175          GIN + TONIC DIET METAL SIGN     -2000   \n",
              "160145   C550456     21108   FAIRY CAKE FLANNEL ASSORTED COLOUR     -3114   \n",
              "4287     C536757     84347  ROTATING SILVER ANGELS T-LIGHT HLDR     -9360   \n",
              "61624    C541433     23166       MEDIUM CERAMIC TOP STORAGE JAR    -74215   \n",
              "540422   C581484     23843          PAPER CRAFT , LITTLE BIRDIE    -80995   \n",
              "\n",
              "               InvoiceDate  UnitPrice  CustomerID         Country  \n",
              "160144 2011-04-18 13:08:00       1.85     15749.0  United Kingdom  \n",
              "160145 2011-04-18 13:08:00       2.10     15749.0  United Kingdom  \n",
              "4287   2010-12-02 14:23:00       0.03     15838.0  United Kingdom  \n",
              "61624  2011-01-18 10:17:00       1.04     12346.0  United Kingdom  \n",
              "540422 2011-12-09 09:27:00       2.08     16446.0  United Kingdom  "
            ]
          },
          "metadata": {
            "tags": []
          },
          "execution_count": 278
        }
      ]
    },
    {
      "cell_type": "markdown",
      "metadata": {
        "id": "EEXWRWviZhcE"
      },
      "source": [
        "Quantity is negative may be due to discounts, damaged goods, thrown away etc. I shall remove these values."
      ]
    },
    {
      "cell_type": "code",
      "metadata": {
        "id": "hpVvXilWZhcE",
        "outputId": "39753138-ec29-4c60-e429-8eaaea9be285"
      },
      "source": [
        "mask = dataset[\"Quantity\"] > 0\n",
        "\n",
        "dataset = dataset [mask]\n",
        "dataset.sort_values(\"Quantity\", ascending = False).tail(5)"
      ],
      "execution_count": null,
      "outputs": [
        {
          "output_type": "execute_result",
          "data": {
            "text/html": [
              "<div>\n",
              "<style scoped>\n",
              "    .dataframe tbody tr th:only-of-type {\n",
              "        vertical-align: middle;\n",
              "    }\n",
              "\n",
              "    .dataframe tbody tr th {\n",
              "        vertical-align: top;\n",
              "    }\n",
              "\n",
              "    .dataframe thead th {\n",
              "        text-align: right;\n",
              "    }\n",
              "</style>\n",
              "<table border=\"1\" class=\"dataframe\">\n",
              "  <thead>\n",
              "    <tr style=\"text-align: right;\">\n",
              "      <th></th>\n",
              "      <th>InvoiceNo</th>\n",
              "      <th>StockCode</th>\n",
              "      <th>Description</th>\n",
              "      <th>Quantity</th>\n",
              "      <th>InvoiceDate</th>\n",
              "      <th>UnitPrice</th>\n",
              "      <th>CustomerID</th>\n",
              "      <th>Country</th>\n",
              "    </tr>\n",
              "  </thead>\n",
              "  <tbody>\n",
              "    <tr>\n",
              "      <th>389620</th>\n",
              "      <td>570482</td>\n",
              "      <td>23380</td>\n",
              "      <td>PACK OF 12 VINTAGE DOILY TISSUES</td>\n",
              "      <td>1</td>\n",
              "      <td>2011-10-10 17:00:00</td>\n",
              "      <td>0.39</td>\n",
              "      <td>17459.0</td>\n",
              "      <td>United Kingdom</td>\n",
              "    </tr>\n",
              "    <tr>\n",
              "      <th>132735</th>\n",
              "      <td>547689</td>\n",
              "      <td>21528</td>\n",
              "      <td>DAIRY MAID TRADITIONAL TEAPOT</td>\n",
              "      <td>1</td>\n",
              "      <td>2011-03-24 14:55:00</td>\n",
              "      <td>6.95</td>\n",
              "      <td>17757.0</td>\n",
              "      <td>United Kingdom</td>\n",
              "    </tr>\n",
              "    <tr>\n",
              "      <th>389621</th>\n",
              "      <td>570482</td>\n",
              "      <td>22615</td>\n",
              "      <td>PACK OF 12 CIRCUS PARADE TISSUES</td>\n",
              "      <td>1</td>\n",
              "      <td>2011-10-10 17:00:00</td>\n",
              "      <td>0.39</td>\n",
              "      <td>17459.0</td>\n",
              "      <td>United Kingdom</td>\n",
              "    </tr>\n",
              "    <tr>\n",
              "      <th>389622</th>\n",
              "      <td>570482</td>\n",
              "      <td>23377</td>\n",
              "      <td>PACK OF 12 DOLLY GIRL TISSUES</td>\n",
              "      <td>1</td>\n",
              "      <td>2011-10-10 17:00:00</td>\n",
              "      <td>0.39</td>\n",
              "      <td>17459.0</td>\n",
              "      <td>United Kingdom</td>\n",
              "    </tr>\n",
              "    <tr>\n",
              "      <th>109150</th>\n",
              "      <td>545587</td>\n",
              "      <td>21870</td>\n",
              "      <td>I CAN ONLY PLEASE ONE PERSON MUG</td>\n",
              "      <td>1</td>\n",
              "      <td>2011-03-04 09:46:00</td>\n",
              "      <td>1.25</td>\n",
              "      <td>14796.0</td>\n",
              "      <td>United Kingdom</td>\n",
              "    </tr>\n",
              "  </tbody>\n",
              "</table>\n",
              "</div>"
            ],
            "text/plain": [
              "       InvoiceNo StockCode                        Description  Quantity  \\\n",
              "389620    570482     23380   PACK OF 12 VINTAGE DOILY TISSUES         1   \n",
              "132735    547689     21528     DAIRY MAID TRADITIONAL TEAPOT          1   \n",
              "389621    570482     22615  PACK OF 12 CIRCUS PARADE TISSUES          1   \n",
              "389622    570482     23377      PACK OF 12 DOLLY GIRL TISSUES         1   \n",
              "109150    545587     21870   I CAN ONLY PLEASE ONE PERSON MUG         1   \n",
              "\n",
              "               InvoiceDate  UnitPrice  CustomerID         Country  \n",
              "389620 2011-10-10 17:00:00       0.39     17459.0  United Kingdom  \n",
              "132735 2011-03-24 14:55:00       6.95     17757.0  United Kingdom  \n",
              "389621 2011-10-10 17:00:00       0.39     17459.0  United Kingdom  \n",
              "389622 2011-10-10 17:00:00       0.39     17459.0  United Kingdom  \n",
              "109150 2011-03-04 09:46:00       1.25     14796.0  United Kingdom  "
            ]
          },
          "metadata": {
            "tags": []
          },
          "execution_count": 279
        }
      ]
    },
    {
      "cell_type": "code",
      "metadata": {
        "id": "m4A7F-dfZhcE"
      },
      "source": [
        "# For some customers, their information on country is unspecified, lets filter those out\n",
        "\n",
        "mask = dataset[\"Country\"] != \"Unspecified\"\n",
        "dataset = dataset [mask]"
      ],
      "execution_count": null,
      "outputs": []
    },
    {
      "cell_type": "code",
      "metadata": {
        "id": "-eiBd2JgZhcE",
        "outputId": "0863d927-df49-4043-e6a6-d11b2a3e78ed"
      },
      "source": [
        "# Creating new column - Revenue in $\n",
        "\n",
        "dataset[\"Revenue\"] = dataset[\"Quantity\"]*dataset[\"UnitPrice\"]\n",
        "dataset.head(10).sort_values(\"Revenue\", ascending = False).head(5)"
      ],
      "execution_count": null,
      "outputs": [
        {
          "output_type": "execute_result",
          "data": {
            "text/html": [
              "<div>\n",
              "<style scoped>\n",
              "    .dataframe tbody tr th:only-of-type {\n",
              "        vertical-align: middle;\n",
              "    }\n",
              "\n",
              "    .dataframe tbody tr th {\n",
              "        vertical-align: top;\n",
              "    }\n",
              "\n",
              "    .dataframe thead th {\n",
              "        text-align: right;\n",
              "    }\n",
              "</style>\n",
              "<table border=\"1\" class=\"dataframe\">\n",
              "  <thead>\n",
              "    <tr style=\"text-align: right;\">\n",
              "      <th></th>\n",
              "      <th>InvoiceNo</th>\n",
              "      <th>StockCode</th>\n",
              "      <th>Description</th>\n",
              "      <th>Quantity</th>\n",
              "      <th>InvoiceDate</th>\n",
              "      <th>UnitPrice</th>\n",
              "      <th>CustomerID</th>\n",
              "      <th>Country</th>\n",
              "      <th>Revenue</th>\n",
              "    </tr>\n",
              "  </thead>\n",
              "  <tbody>\n",
              "    <tr>\n",
              "      <th>9</th>\n",
              "      <td>536367</td>\n",
              "      <td>84879</td>\n",
              "      <td>ASSORTED COLOUR BIRD ORNAMENT</td>\n",
              "      <td>32</td>\n",
              "      <td>2010-12-01 08:34:00</td>\n",
              "      <td>1.69</td>\n",
              "      <td>13047.0</td>\n",
              "      <td>United Kingdom</td>\n",
              "      <td>54.08</td>\n",
              "    </tr>\n",
              "    <tr>\n",
              "      <th>6</th>\n",
              "      <td>536365</td>\n",
              "      <td>21730</td>\n",
              "      <td>GLASS STAR FROSTED T-LIGHT HOLDER</td>\n",
              "      <td>6</td>\n",
              "      <td>2010-12-01 08:26:00</td>\n",
              "      <td>4.25</td>\n",
              "      <td>17850.0</td>\n",
              "      <td>United Kingdom</td>\n",
              "      <td>25.50</td>\n",
              "    </tr>\n",
              "    <tr>\n",
              "      <th>2</th>\n",
              "      <td>536365</td>\n",
              "      <td>84406B</td>\n",
              "      <td>CREAM CUPID HEARTS COAT HANGER</td>\n",
              "      <td>8</td>\n",
              "      <td>2010-12-01 08:26:00</td>\n",
              "      <td>2.75</td>\n",
              "      <td>17850.0</td>\n",
              "      <td>United Kingdom</td>\n",
              "      <td>22.00</td>\n",
              "    </tr>\n",
              "    <tr>\n",
              "      <th>1</th>\n",
              "      <td>536365</td>\n",
              "      <td>71053</td>\n",
              "      <td>WHITE METAL LANTERN</td>\n",
              "      <td>6</td>\n",
              "      <td>2010-12-01 08:26:00</td>\n",
              "      <td>3.39</td>\n",
              "      <td>17850.0</td>\n",
              "      <td>United Kingdom</td>\n",
              "      <td>20.34</td>\n",
              "    </tr>\n",
              "    <tr>\n",
              "      <th>3</th>\n",
              "      <td>536365</td>\n",
              "      <td>84029G</td>\n",
              "      <td>KNITTED UNION FLAG HOT WATER BOTTLE</td>\n",
              "      <td>6</td>\n",
              "      <td>2010-12-01 08:26:00</td>\n",
              "      <td>3.39</td>\n",
              "      <td>17850.0</td>\n",
              "      <td>United Kingdom</td>\n",
              "      <td>20.34</td>\n",
              "    </tr>\n",
              "  </tbody>\n",
              "</table>\n",
              "</div>"
            ],
            "text/plain": [
              "  InvoiceNo StockCode                          Description  Quantity  \\\n",
              "9    536367     84879        ASSORTED COLOUR BIRD ORNAMENT        32   \n",
              "6    536365     21730    GLASS STAR FROSTED T-LIGHT HOLDER         6   \n",
              "2    536365    84406B       CREAM CUPID HEARTS COAT HANGER         8   \n",
              "1    536365     71053                  WHITE METAL LANTERN         6   \n",
              "3    536365    84029G  KNITTED UNION FLAG HOT WATER BOTTLE         6   \n",
              "\n",
              "          InvoiceDate  UnitPrice  CustomerID         Country  Revenue  \n",
              "9 2010-12-01 08:34:00       1.69     13047.0  United Kingdom    54.08  \n",
              "6 2010-12-01 08:26:00       4.25     17850.0  United Kingdom    25.50  \n",
              "2 2010-12-01 08:26:00       2.75     17850.0  United Kingdom    22.00  \n",
              "1 2010-12-01 08:26:00       3.39     17850.0  United Kingdom    20.34  \n",
              "3 2010-12-01 08:26:00       3.39     17850.0  United Kingdom    20.34  "
            ]
          },
          "metadata": {
            "tags": []
          },
          "execution_count": 281
        }
      ]
    },
    {
      "cell_type": "code",
      "metadata": {
        "id": "3QaO9QGoZhcE",
        "outputId": "d3e9e29d-d206-43be-8906-e65de511c743"
      },
      "source": [
        "dataset.sort_values(\"Revenue\", ascending = False).tail(5)\n",
        "\n",
        "# Revenue is 0 for some quantities, as they may have been given away as promotional offers, I shll remove these as well"
      ],
      "execution_count": null,
      "outputs": [
        {
          "output_type": "execute_result",
          "data": {
            "text/html": [
              "<div>\n",
              "<style scoped>\n",
              "    .dataframe tbody tr th:only-of-type {\n",
              "        vertical-align: middle;\n",
              "    }\n",
              "\n",
              "    .dataframe tbody tr th {\n",
              "        vertical-align: top;\n",
              "    }\n",
              "\n",
              "    .dataframe thead th {\n",
              "        text-align: right;\n",
              "    }\n",
              "</style>\n",
              "<table border=\"1\" class=\"dataframe\">\n",
              "  <thead>\n",
              "    <tr style=\"text-align: right;\">\n",
              "      <th></th>\n",
              "      <th>InvoiceNo</th>\n",
              "      <th>StockCode</th>\n",
              "      <th>Description</th>\n",
              "      <th>Quantity</th>\n",
              "      <th>InvoiceDate</th>\n",
              "      <th>UnitPrice</th>\n",
              "      <th>CustomerID</th>\n",
              "      <th>Country</th>\n",
              "      <th>Revenue</th>\n",
              "    </tr>\n",
              "  </thead>\n",
              "  <tbody>\n",
              "    <tr>\n",
              "      <th>145208</th>\n",
              "      <td>548871</td>\n",
              "      <td>22162</td>\n",
              "      <td>HEART GARLAND RUSTIC PADDED</td>\n",
              "      <td>2</td>\n",
              "      <td>2011-04-04 14:42:00</td>\n",
              "      <td>0.0</td>\n",
              "      <td>14410.0</td>\n",
              "      <td>United Kingdom</td>\n",
              "      <td>0.0</td>\n",
              "    </tr>\n",
              "    <tr>\n",
              "      <th>485985</th>\n",
              "      <td>577696</td>\n",
              "      <td>M</td>\n",
              "      <td>Manual</td>\n",
              "      <td>1</td>\n",
              "      <td>2011-11-21 11:57:00</td>\n",
              "      <td>0.0</td>\n",
              "      <td>16406.0</td>\n",
              "      <td>United Kingdom</td>\n",
              "      <td>0.0</td>\n",
              "    </tr>\n",
              "    <tr>\n",
              "      <th>454463</th>\n",
              "      <td>575579</td>\n",
              "      <td>22437</td>\n",
              "      <td>SET OF 9 BLACK SKULL BALLOONS</td>\n",
              "      <td>20</td>\n",
              "      <td>2011-11-10 11:49:00</td>\n",
              "      <td>0.0</td>\n",
              "      <td>13081.0</td>\n",
              "      <td>United Kingdom</td>\n",
              "      <td>0.0</td>\n",
              "    </tr>\n",
              "    <tr>\n",
              "      <th>454464</th>\n",
              "      <td>575579</td>\n",
              "      <td>22089</td>\n",
              "      <td>PAPER BUNTING VINTAGE PAISLEY</td>\n",
              "      <td>24</td>\n",
              "      <td>2011-11-10 11:49:00</td>\n",
              "      <td>0.0</td>\n",
              "      <td>13081.0</td>\n",
              "      <td>United Kingdom</td>\n",
              "      <td>0.0</td>\n",
              "    </tr>\n",
              "    <tr>\n",
              "      <th>285657</th>\n",
              "      <td>561916</td>\n",
              "      <td>M</td>\n",
              "      <td>Manual</td>\n",
              "      <td>1</td>\n",
              "      <td>2011-08-01 11:44:00</td>\n",
              "      <td>0.0</td>\n",
              "      <td>15581.0</td>\n",
              "      <td>United Kingdom</td>\n",
              "      <td>0.0</td>\n",
              "    </tr>\n",
              "  </tbody>\n",
              "</table>\n",
              "</div>"
            ],
            "text/plain": [
              "       InvoiceNo StockCode                    Description  Quantity  \\\n",
              "145208    548871     22162    HEART GARLAND RUSTIC PADDED         2   \n",
              "485985    577696         M                         Manual         1   \n",
              "454463    575579     22437  SET OF 9 BLACK SKULL BALLOONS        20   \n",
              "454464    575579     22089  PAPER BUNTING VINTAGE PAISLEY        24   \n",
              "285657    561916         M                         Manual         1   \n",
              "\n",
              "               InvoiceDate  UnitPrice  CustomerID         Country  Revenue  \n",
              "145208 2011-04-04 14:42:00        0.0     14410.0  United Kingdom      0.0  \n",
              "485985 2011-11-21 11:57:00        0.0     16406.0  United Kingdom      0.0  \n",
              "454463 2011-11-10 11:49:00        0.0     13081.0  United Kingdom      0.0  \n",
              "454464 2011-11-10 11:49:00        0.0     13081.0  United Kingdom      0.0  \n",
              "285657 2011-08-01 11:44:00        0.0     15581.0  United Kingdom      0.0  "
            ]
          },
          "metadata": {
            "tags": []
          },
          "execution_count": 282
        }
      ]
    },
    {
      "cell_type": "code",
      "metadata": {
        "id": "INfw5v-kZhcE",
        "outputId": "30a9c484-4e5f-4f85-c91d-f9238f81d085"
      },
      "source": [
        "mask = dataset[\"Revenue\"] > 0\n",
        "\n",
        "dataset = dataset [mask]\n",
        "dataset.sort_values(\"Revenue\", ascending = False).head(5)"
      ],
      "execution_count": null,
      "outputs": [
        {
          "output_type": "execute_result",
          "data": {
            "text/html": [
              "<div>\n",
              "<style scoped>\n",
              "    .dataframe tbody tr th:only-of-type {\n",
              "        vertical-align: middle;\n",
              "    }\n",
              "\n",
              "    .dataframe tbody tr th {\n",
              "        vertical-align: top;\n",
              "    }\n",
              "\n",
              "    .dataframe thead th {\n",
              "        text-align: right;\n",
              "    }\n",
              "</style>\n",
              "<table border=\"1\" class=\"dataframe\">\n",
              "  <thead>\n",
              "    <tr style=\"text-align: right;\">\n",
              "      <th></th>\n",
              "      <th>InvoiceNo</th>\n",
              "      <th>StockCode</th>\n",
              "      <th>Description</th>\n",
              "      <th>Quantity</th>\n",
              "      <th>InvoiceDate</th>\n",
              "      <th>UnitPrice</th>\n",
              "      <th>CustomerID</th>\n",
              "      <th>Country</th>\n",
              "      <th>Revenue</th>\n",
              "    </tr>\n",
              "  </thead>\n",
              "  <tbody>\n",
              "    <tr>\n",
              "      <th>540421</th>\n",
              "      <td>581483</td>\n",
              "      <td>23843</td>\n",
              "      <td>PAPER CRAFT , LITTLE BIRDIE</td>\n",
              "      <td>80995</td>\n",
              "      <td>2011-12-09 09:15:00</td>\n",
              "      <td>2.08</td>\n",
              "      <td>16446.0</td>\n",
              "      <td>United Kingdom</td>\n",
              "      <td>168469.60</td>\n",
              "    </tr>\n",
              "    <tr>\n",
              "      <th>61619</th>\n",
              "      <td>541431</td>\n",
              "      <td>23166</td>\n",
              "      <td>MEDIUM CERAMIC TOP STORAGE JAR</td>\n",
              "      <td>74215</td>\n",
              "      <td>2011-01-18 10:01:00</td>\n",
              "      <td>1.04</td>\n",
              "      <td>12346.0</td>\n",
              "      <td>United Kingdom</td>\n",
              "      <td>77183.60</td>\n",
              "    </tr>\n",
              "    <tr>\n",
              "      <th>222680</th>\n",
              "      <td>556444</td>\n",
              "      <td>22502</td>\n",
              "      <td>PICNIC BASKET WICKER 60 PIECES</td>\n",
              "      <td>60</td>\n",
              "      <td>2011-06-10 15:28:00</td>\n",
              "      <td>649.50</td>\n",
              "      <td>15098.0</td>\n",
              "      <td>United Kingdom</td>\n",
              "      <td>38970.00</td>\n",
              "    </tr>\n",
              "    <tr>\n",
              "      <th>173382</th>\n",
              "      <td>551697</td>\n",
              "      <td>POST</td>\n",
              "      <td>POSTAGE</td>\n",
              "      <td>1</td>\n",
              "      <td>2011-05-03 13:46:00</td>\n",
              "      <td>8142.75</td>\n",
              "      <td>16029.0</td>\n",
              "      <td>United Kingdom</td>\n",
              "      <td>8142.75</td>\n",
              "    </tr>\n",
              "    <tr>\n",
              "      <th>348325</th>\n",
              "      <td>567423</td>\n",
              "      <td>23243</td>\n",
              "      <td>SET OF TEA COFFEE SUGAR TINS PANTRY</td>\n",
              "      <td>1412</td>\n",
              "      <td>2011-09-20 11:05:00</td>\n",
              "      <td>5.06</td>\n",
              "      <td>17450.0</td>\n",
              "      <td>United Kingdom</td>\n",
              "      <td>7144.72</td>\n",
              "    </tr>\n",
              "  </tbody>\n",
              "</table>\n",
              "</div>"
            ],
            "text/plain": [
              "       InvoiceNo StockCode                          Description  Quantity  \\\n",
              "540421    581483     23843          PAPER CRAFT , LITTLE BIRDIE     80995   \n",
              "61619     541431     23166       MEDIUM CERAMIC TOP STORAGE JAR     74215   \n",
              "222680    556444     22502       PICNIC BASKET WICKER 60 PIECES        60   \n",
              "173382    551697      POST                              POSTAGE         1   \n",
              "348325    567423     23243  SET OF TEA COFFEE SUGAR TINS PANTRY      1412   \n",
              "\n",
              "               InvoiceDate  UnitPrice  CustomerID         Country    Revenue  \n",
              "540421 2011-12-09 09:15:00       2.08     16446.0  United Kingdom  168469.60  \n",
              "61619  2011-01-18 10:01:00       1.04     12346.0  United Kingdom   77183.60  \n",
              "222680 2011-06-10 15:28:00     649.50     15098.0  United Kingdom   38970.00  \n",
              "173382 2011-05-03 13:46:00    8142.75     16029.0  United Kingdom    8142.75  \n",
              "348325 2011-09-20 11:05:00       5.06     17450.0  United Kingdom    7144.72  "
            ]
          },
          "metadata": {
            "tags": []
          },
          "execution_count": 283
        }
      ]
    },
    {
      "cell_type": "code",
      "metadata": {
        "id": "kO7OzxmaZhcE",
        "outputId": "cb959351-2185-4ade-b700-373856374b9c"
      },
      "source": [
        "dataset.sort_values(\"Revenue\", ascending = False).tail(5)"
      ],
      "execution_count": null,
      "outputs": [
        {
          "output_type": "execute_result",
          "data": {
            "text/html": [
              "<div>\n",
              "<style scoped>\n",
              "    .dataframe tbody tr th:only-of-type {\n",
              "        vertical-align: middle;\n",
              "    }\n",
              "\n",
              "    .dataframe tbody tr th {\n",
              "        vertical-align: top;\n",
              "    }\n",
              "\n",
              "    .dataframe thead th {\n",
              "        text-align: right;\n",
              "    }\n",
              "</style>\n",
              "<table border=\"1\" class=\"dataframe\">\n",
              "  <thead>\n",
              "    <tr style=\"text-align: right;\">\n",
              "      <th></th>\n",
              "      <th>InvoiceNo</th>\n",
              "      <th>StockCode</th>\n",
              "      <th>Description</th>\n",
              "      <th>Quantity</th>\n",
              "      <th>InvoiceDate</th>\n",
              "      <th>UnitPrice</th>\n",
              "      <th>CustomerID</th>\n",
              "      <th>Country</th>\n",
              "      <th>Revenue</th>\n",
              "    </tr>\n",
              "  </thead>\n",
              "  <tbody>\n",
              "    <tr>\n",
              "      <th>500313</th>\n",
              "      <td>578757</td>\n",
              "      <td>16216</td>\n",
              "      <td>LETTER SHAPE PENCIL SHARPENER</td>\n",
              "      <td>1</td>\n",
              "      <td>2011-11-25 11:41:00</td>\n",
              "      <td>0.060</td>\n",
              "      <td>12748.0</td>\n",
              "      <td>United Kingdom</td>\n",
              "      <td>0.060</td>\n",
              "    </tr>\n",
              "    <tr>\n",
              "      <th>361741</th>\n",
              "      <td>568375</td>\n",
              "      <td>BANK CHARGES</td>\n",
              "      <td>Bank Charges</td>\n",
              "      <td>1</td>\n",
              "      <td>2011-09-26 17:01:00</td>\n",
              "      <td>0.001</td>\n",
              "      <td>13405.0</td>\n",
              "      <td>United Kingdom</td>\n",
              "      <td>0.001</td>\n",
              "    </tr>\n",
              "    <tr>\n",
              "      <th>157195</th>\n",
              "      <td>550193</td>\n",
              "      <td>PADS</td>\n",
              "      <td>PADS TO MATCH ALL CUSHIONS</td>\n",
              "      <td>1</td>\n",
              "      <td>2011-04-15 09:27:00</td>\n",
              "      <td>0.001</td>\n",
              "      <td>13952.0</td>\n",
              "      <td>United Kingdom</td>\n",
              "      <td>0.001</td>\n",
              "    </tr>\n",
              "    <tr>\n",
              "      <th>279045</th>\n",
              "      <td>561226</td>\n",
              "      <td>PADS</td>\n",
              "      <td>PADS TO MATCH ALL CUSHIONS</td>\n",
              "      <td>1</td>\n",
              "      <td>2011-07-26 10:13:00</td>\n",
              "      <td>0.001</td>\n",
              "      <td>15618.0</td>\n",
              "      <td>United Kingdom</td>\n",
              "      <td>0.001</td>\n",
              "    </tr>\n",
              "    <tr>\n",
              "      <th>359871</th>\n",
              "      <td>568200</td>\n",
              "      <td>PADS</td>\n",
              "      <td>PADS TO MATCH ALL CUSHIONS</td>\n",
              "      <td>1</td>\n",
              "      <td>2011-09-25 14:58:00</td>\n",
              "      <td>0.001</td>\n",
              "      <td>16198.0</td>\n",
              "      <td>United Kingdom</td>\n",
              "      <td>0.001</td>\n",
              "    </tr>\n",
              "  </tbody>\n",
              "</table>\n",
              "</div>"
            ],
            "text/plain": [
              "       InvoiceNo     StockCode                    Description  Quantity  \\\n",
              "500313    578757         16216  LETTER SHAPE PENCIL SHARPENER         1   \n",
              "361741    568375  BANK CHARGES                   Bank Charges         1   \n",
              "157195    550193          PADS     PADS TO MATCH ALL CUSHIONS         1   \n",
              "279045    561226          PADS     PADS TO MATCH ALL CUSHIONS         1   \n",
              "359871    568200          PADS     PADS TO MATCH ALL CUSHIONS         1   \n",
              "\n",
              "               InvoiceDate  UnitPrice  CustomerID         Country  Revenue  \n",
              "500313 2011-11-25 11:41:00      0.060     12748.0  United Kingdom    0.060  \n",
              "361741 2011-09-26 17:01:00      0.001     13405.0  United Kingdom    0.001  \n",
              "157195 2011-04-15 09:27:00      0.001     13952.0  United Kingdom    0.001  \n",
              "279045 2011-07-26 10:13:00      0.001     15618.0  United Kingdom    0.001  \n",
              "359871 2011-09-25 14:58:00      0.001     16198.0  United Kingdom    0.001  "
            ]
          },
          "metadata": {
            "tags": []
          },
          "execution_count": 284
        }
      ]
    },
    {
      "cell_type": "code",
      "metadata": {
        "id": "W0V223SEZhcE",
        "outputId": "9db55af4-b2db-479c-9d21-015df4077523"
      },
      "source": [
        "# Encoding variables\n",
        "\n",
        "dataset[\"StockCode\"] = dataset[\"StockCode\"].astype('object')\n",
        "dataset[\"CustomerID\"] = dataset[\"CustomerID\"].astype('object')\n",
        "\n",
        "dataset.info()"
      ],
      "execution_count": null,
      "outputs": [
        {
          "output_type": "stream",
          "text": [
            "<class 'pandas.core.frame.DataFrame'>\n",
            "Int64Index: 397640 entries, 0 to 541908\n",
            "Data columns (total 9 columns):\n",
            "InvoiceNo      397640 non-null object\n",
            "StockCode      397640 non-null object\n",
            "Description    397640 non-null object\n",
            "Quantity       397640 non-null int64\n",
            "InvoiceDate    397640 non-null datetime64[ns]\n",
            "UnitPrice      397640 non-null float64\n",
            "CustomerID     397640 non-null object\n",
            "Country        397640 non-null object\n",
            "Revenue        397640 non-null float64\n",
            "dtypes: datetime64[ns](1), float64(2), int64(1), object(5)\n",
            "memory usage: 30.3+ MB\n"
          ],
          "name": "stdout"
        }
      ]
    },
    {
      "cell_type": "markdown",
      "metadata": {
        "id": "CLjG4m8uZhcE"
      },
      "source": [
        "### Top 20% of customers driving 80% of revenue"
      ]
    },
    {
      "cell_type": "code",
      "metadata": {
        "id": "GKTWBziKZhcE",
        "outputId": "54765627-5b33-4151-b5b2-828c39bba02d"
      },
      "source": [
        "# Customer ID\n",
        "\n",
        "print(\"Unique customers:\")\n",
        "dataset[\"CustomerID\"].nunique()\n",
        "\n",
        "dataset.groupby(\"CustomerID\").agg({\"Revenue\": \"sum\"}).sort_values(\"Revenue\", ascending = False).head(20).plot(kind = \"bar\")\n",
        "                                \n",
        "plt.show()\n"
      ],
      "execution_count": null,
      "outputs": [
        {
          "output_type": "stream",
          "text": [
            "Unique customers:\n"
          ],
          "name": "stdout"
        },
        {
          "output_type": "execute_result",
          "data": {
            "text/plain": [
              "4334"
            ]
          },
          "metadata": {
            "tags": []
          },
          "execution_count": 286
        },
        {
          "output_type": "execute_result",
          "data": {
            "text/plain": [
              "<matplotlib.axes._subplots.AxesSubplot at 0x1548e3b9a58>"
            ]
          },
          "metadata": {
            "tags": []
          },
          "execution_count": 286
        },
        {
          "output_type": "display_data",
          "data": {
            "image/png": "[encoded data removed]",
            "text/plain": [
              "<Figure size 432x288 with 1 Axes>"
            ]
          },
          "metadata": {
            "tags": []
          }
        }
      ]
    },
    {
      "cell_type": "code",
      "metadata": {
        "id": "XBbDO289ZhcE",
        "outputId": "f0606e6a-7c34-4019-dbaf-551816e580e2"
      },
      "source": [
        "# Customer IDs of top segments\n",
        "\n",
        "dataset1 = dataset[[\"CustomerID\", \"Revenue\"]]\n",
        "\n",
        "print(\"Top customer segment IDs\")\n",
        "dataset2 = dataset1.groupby(\"CustomerID\").agg({\"Revenue\": \"sum\"}).sort_values(\"Revenue\", ascending = False)\n",
        "\n",
        "dataset2.head(5)"
      ],
      "execution_count": null,
      "outputs": [
        {
          "output_type": "stream",
          "text": [
            "Top customer segment IDs\n"
          ],
          "name": "stdout"
        },
        {
          "output_type": "execute_result",
          "data": {
            "text/html": [
              "<div>\n",
              "<style scoped>\n",
              "    .dataframe tbody tr th:only-of-type {\n",
              "        vertical-align: middle;\n",
              "    }\n",
              "\n",
              "    .dataframe tbody tr th {\n",
              "        vertical-align: top;\n",
              "    }\n",
              "\n",
              "    .dataframe thead th {\n",
              "        text-align: right;\n",
              "    }\n",
              "</style>\n",
              "<table border=\"1\" class=\"dataframe\">\n",
              "  <thead>\n",
              "    <tr style=\"text-align: right;\">\n",
              "      <th></th>\n",
              "      <th>Revenue</th>\n",
              "    </tr>\n",
              "    <tr>\n",
              "      <th>CustomerID</th>\n",
              "      <th></th>\n",
              "    </tr>\n",
              "  </thead>\n",
              "  <tbody>\n",
              "    <tr>\n",
              "      <th>14646.0</th>\n",
              "      <td>280206.02</td>\n",
              "    </tr>\n",
              "    <tr>\n",
              "      <th>18102.0</th>\n",
              "      <td>259657.30</td>\n",
              "    </tr>\n",
              "    <tr>\n",
              "      <th>17450.0</th>\n",
              "      <td>194550.79</td>\n",
              "    </tr>\n",
              "    <tr>\n",
              "      <th>16446.0</th>\n",
              "      <td>168472.50</td>\n",
              "    </tr>\n",
              "    <tr>\n",
              "      <th>14911.0</th>\n",
              "      <td>143825.06</td>\n",
              "    </tr>\n",
              "  </tbody>\n",
              "</table>\n",
              "</div>"
            ],
            "text/plain": [
              "              Revenue\n",
              "CustomerID           \n",
              "14646.0     280206.02\n",
              "18102.0     259657.30\n",
              "17450.0     194550.79\n",
              "16446.0     168472.50\n",
              "14911.0     143825.06"
            ]
          },
          "metadata": {
            "tags": []
          },
          "execution_count": 287
        }
      ]
    },
    {
      "cell_type": "code",
      "metadata": {
        "id": "lfsf6l9aZhcE",
        "outputId": "0febaca1-e2d1-4a42-8bec-707618b711b2"
      },
      "source": [
        "# Identifying the top 20 % customer segments driving 80 % $ sales\n",
        "\n",
        "h = dataset1[\"CustomerID\"].nunique()\n",
        "i = round(0.25*h)\n",
        "print(\"# of customers in top 25% power segment:\", i, \"out of\", h)\n",
        "\n",
        "j = dataset1.groupby(\"CustomerID\").agg({\"Revenue\": \"sum\"}).sort_values(\"Revenue\", ascending = False).head(i).sum()\n",
        "k = dataset1[\"Revenue\"].sum()\n",
        "\n",
        "l = j/k*100\n",
        "print(\"Total sales resulting from the top product segment:\", round(list(l)[0]), \"%\")"
      ],
      "execution_count": null,
      "outputs": [
        {
          "output_type": "stream",
          "text": [
            "# of customers in top 25% power segment: 1084 out of 4334\n",
            "Total sales resulting from the top product segment: 79 %\n"
          ],
          "name": "stdout"
        }
      ]
    },
    {
      "cell_type": "markdown",
      "metadata": {
        "id": "6A7kjPp3ZhcE"
      },
      "source": [
        "### Analysis: \n",
        "\n",
        "1084 out of total 3877, top 25% of customer segments result in 79% of total $ sales amount."
      ]
    },
    {
      "cell_type": "markdown",
      "metadata": {
        "id": "2e6jaM5_ZhcE"
      },
      "source": [
        "### Business Strategy:\n",
        "\n",
        "While the top 25 % customers can be targetted for potential up sell and cross sell potential. \n",
        "\n",
        "Considering that the retail industry is very competitive, the remaining 75% of customers can be targetted for future expansion by coordination with sales & marketing teams, discounts, pricing stratagy, bundling products, etc."
      ]
    },
    {
      "cell_type": "markdown",
      "metadata": {
        "id": "2seiZ7v8ZhcE"
      },
      "source": [
        "### Top 20 % products driving 80 % of $ sales"
      ]
    },
    {
      "cell_type": "code",
      "metadata": {
        "id": "HQ-dMmuAZhcE",
        "outputId": "163fc0d6-dcb3-4af5-e8ff-5b746493ce44"
      },
      "source": [
        "# Products\n",
        "\n",
        "dataset1 = dataset[[\"Description\", \"Revenue\"]]\n",
        "print(\"Unique products:\")\n",
        "dataset1[\"Description\"].nunique()"
      ],
      "execution_count": null,
      "outputs": [
        {
          "output_type": "stream",
          "text": [
            "Unique products:\n"
          ],
          "name": "stdout"
        },
        {
          "output_type": "execute_result",
          "data": {
            "text/plain": [
              "3877"
            ]
          },
          "metadata": {
            "tags": []
          },
          "execution_count": 290
        }
      ]
    },
    {
      "cell_type": "markdown",
      "metadata": {
        "id": "vTTsYf1zZhcE"
      },
      "source": [
        "#Unique products sold by the retailer is 3877."
      ]
    },
    {
      "cell_type": "code",
      "metadata": {
        "id": "B9F_A9acZhcE",
        "outputId": "48221109-a406-4a70-ff65-9c1589f56151"
      },
      "source": [
        "print(dataset1[\"Description\"].nunique())\n",
        "dataset2 = dataset1.groupby(\"Description\").agg({\"Revenue\": \"sum\"}).sort_values(\"Revenue\", ascending = False)\n",
        "dataset2.head(20).plot(kind = \"bar\")\n",
        "plt.show()"
      ],
      "execution_count": null,
      "outputs": [
        {
          "output_type": "stream",
          "text": [
            "3877\n"
          ],
          "name": "stdout"
        },
        {
          "output_type": "execute_result",
          "data": {
            "text/plain": [
              "<matplotlib.axes._subplots.AxesSubplot at 0x1548daeda20>"
            ]
          },
          "metadata": {
            "tags": []
          },
          "execution_count": 291
        },
        {
          "output_type": "display_data",
          "data": {
            "image/png": "[encoded data removed]",
            "text/plain": [
              "<Figure size 432x288 with 1 Axes>"
            ]
          },
          "metadata": {
            "tags": []
          }
        }
      ]
    },
    {
      "cell_type": "code",
      "metadata": {
        "id": "e41t0pdoZhcE"
      },
      "source": [
        "# # Multiple Output display\n",
        "from IPython.core.interactiveshell import InteractiveShell\n",
        "InteractiveShell.ast_node_interactivity = \"all\""
      ],
      "execution_count": null,
      "outputs": []
    },
    {
      "cell_type": "code",
      "metadata": {
        "id": "UlImeXUMZhcE",
        "outputId": "f77ad0c5-5389-4162-a10b-05fb55711710"
      },
      "source": [
        "# Identifying the top 20 % products driving 80 % of $ sales\n",
        "\n",
        "h = dataset1[\"Description\"].nunique()\n",
        "i = round(0.20*h)\n",
        "print(\"# of products in top 20 % segment:\", i, \"out of\", h)\n",
        "\n",
        "j = dataset2.head(i).sum()\n",
        "k = dataset1[\"Revenue\"].sum()\n",
        "\n",
        "l = j/k*100\n",
        "print(\"Total sales resulting from the top product segment:\", round(list(l)[0]), \"%\")"
      ],
      "execution_count": null,
      "outputs": [
        {
          "output_type": "stream",
          "text": [
            "# of products in top 20 % segment: 775 out of 3877\n",
            "Total sales resulting from the top product segment: 79 %\n"
          ],
          "name": "stdout"
        }
      ]
    },
    {
      "cell_type": "markdown",
      "metadata": {
        "id": "BVNzwskPZhcE"
      },
      "source": [
        "### Analysis: \n",
        "\n",
        "775 out of total 3877, top 20% of products result in 79% of total $ sales amount."
      ]
    },
    {
      "cell_type": "markdown",
      "metadata": {
        "id": "iWDpUcPmZhcE"
      },
      "source": [
        "### Business Startegy:\n",
        "\n",
        "The top 20% of most popular products (top sellers) sold by the retail company can be bundled with less frequently sold products to increase total $ sales overall, through suitable discounts and promotions to customers. "
      ]
    },
    {
      "cell_type": "markdown",
      "metadata": {
        "id": "cjCjTzT2ZhcE"
      },
      "source": [
        "### Top 20 % geographic locations driving 80 % of $ sales"
      ]
    },
    {
      "cell_type": "markdown",
      "metadata": {
        "id": "Zv7ERIPuZhcE"
      },
      "source": [
        "##### Top 10 countries by revenue"
      ]
    },
    {
      "cell_type": "code",
      "metadata": {
        "id": "xY-YWsAaZhcE",
        "outputId": "5f20587a-bc15-4c51-fea4-659a552fae39"
      },
      "source": [
        "# Segmenting sales by geographic location\n",
        "\n",
        "dataset1 = dataset[[\"Country\", \"Revenue\"]]\n",
        "\n",
        "print(\"Countries:\")\n",
        "dataset1[\"Country\"].nunique()\n",
        "print(\"Top 10 countries by $ sales:\")\n",
        "dataset2 = dataset1.groupby(\"Country\").agg({\"Revenue\": \"sum\"}).sort_values(\"Revenue\", ascending = False)\n",
        "dataset2.head(5).plot(kind = \"bar\")\n",
        "\n",
        "# Analysis: "
      ],
      "execution_count": null,
      "outputs": [
        {
          "output_type": "stream",
          "text": [
            "Countries:\n"
          ],
          "name": "stdout"
        },
        {
          "output_type": "execute_result",
          "data": {
            "text/plain": [
              "36"
            ]
          },
          "metadata": {
            "tags": []
          },
          "execution_count": 294
        },
        {
          "output_type": "stream",
          "text": [
            "Top 10 countries by $ sales:\n"
          ],
          "name": "stdout"
        },
        {
          "output_type": "execute_result",
          "data": {
            "text/plain": [
              "<matplotlib.axes._subplots.AxesSubplot at 0x1548f7608d0>"
            ]
          },
          "metadata": {
            "tags": []
          },
          "execution_count": 294
        },
        {
          "output_type": "display_data",
          "data": {
            "image/png": "[encoded data removed]",
            "text/plain": [
              "<Figure size 432x288 with 1 Axes>"
            ]
          },
          "metadata": {
            "tags": []
          }
        }
      ]
    },
    {
      "cell_type": "markdown",
      "metadata": {
        "id": "EQZucgxwZhcE"
      },
      "source": [
        "##### Bottom 20 countries by revenue"
      ]
    },
    {
      "cell_type": "code",
      "metadata": {
        "id": "g1dk9PylZhcE",
        "outputId": "bd0539e1-a70b-408d-d5f2-d50e44bab7f1"
      },
      "source": [
        "print(\"Bottom 10 countries by $ sales:\")\n",
        "\n",
        "dataset2.tail(10).plot(kind = \"bar\")\n",
        "\n",
        "# Analysis"
      ],
      "execution_count": null,
      "outputs": [
        {
          "output_type": "stream",
          "text": [
            "Bottom 10 countries by $ sales:\n"
          ],
          "name": "stdout"
        },
        {
          "output_type": "execute_result",
          "data": {
            "text/plain": [
              "<matplotlib.axes._subplots.AxesSubplot at 0x154bdf18668>"
            ]
          },
          "metadata": {
            "tags": []
          },
          "execution_count": 295
        },
        {
          "output_type": "display_data",
          "data": {
            "image/png": "[encoded data removed]",
            "text/plain": [
              "<Figure size 432x288 with 1 Axes>"
            ]
          },
          "metadata": {
            "tags": []
          }
        }
      ]
    },
    {
      "cell_type": "code",
      "metadata": {
        "id": "klrIrrAlZhcE",
        "outputId": "9b990261-7e11-4e6a-a2c8-ed7208699308"
      },
      "source": [
        "# Identifying the top 20 % geographic locations driving 80 % of $ sales\n",
        "\n",
        "h = dataset1[\"Country\"].nunique()\n",
        "i = 1\n",
        "\n",
        "print(\"# of products in UK:\")\n",
        "\n",
        "j = dataset2.head(i).sum()\n",
        "k = dataset1[\"Revenue\"].sum()\n",
        "\n",
        "l = j/k*100\n",
        "print(\"Total $ sales resulting from UK:\", round(list(l)[0]), \"%\")"
      ],
      "execution_count": null,
      "outputs": [
        {
          "output_type": "stream",
          "text": [
            "# of products in UK:\n",
            "Total $ sales resulting from UK: 82 %\n"
          ],
          "name": "stdout"
        }
      ]
    },
    {
      "cell_type": "code",
      "metadata": {
        "id": "Uku8L9TFZhcE",
        "outputId": "f3edc33f-00af-42ea-8689-05b68fff9228"
      },
      "source": [
        "dataset2.head(5)"
      ],
      "execution_count": null,
      "outputs": [
        {
          "output_type": "execute_result",
          "data": {
            "text/html": [
              "<div>\n",
              "<style scoped>\n",
              "    .dataframe tbody tr th:only-of-type {\n",
              "        vertical-align: middle;\n",
              "    }\n",
              "\n",
              "    .dataframe tbody tr th {\n",
              "        vertical-align: top;\n",
              "    }\n",
              "\n",
              "    .dataframe thead th {\n",
              "        text-align: right;\n",
              "    }\n",
              "</style>\n",
              "<table border=\"1\" class=\"dataframe\">\n",
              "  <thead>\n",
              "    <tr style=\"text-align: right;\">\n",
              "      <th></th>\n",
              "      <th>Revenue</th>\n",
              "    </tr>\n",
              "    <tr>\n",
              "      <th>Country</th>\n",
              "      <th></th>\n",
              "    </tr>\n",
              "  </thead>\n",
              "  <tbody>\n",
              "    <tr>\n",
              "      <th>United Kingdom</th>\n",
              "      <td>7.308392e+06</td>\n",
              "    </tr>\n",
              "    <tr>\n",
              "      <th>Netherlands</th>\n",
              "      <td>2.854463e+05</td>\n",
              "    </tr>\n",
              "    <tr>\n",
              "      <th>EIRE</th>\n",
              "      <td>2.655459e+05</td>\n",
              "    </tr>\n",
              "    <tr>\n",
              "      <th>Germany</th>\n",
              "      <td>2.288671e+05</td>\n",
              "    </tr>\n",
              "    <tr>\n",
              "      <th>France</th>\n",
              "      <td>2.090240e+05</td>\n",
              "    </tr>\n",
              "  </tbody>\n",
              "</table>\n",
              "</div>"
            ],
            "text/plain": [
              "                     Revenue\n",
              "Country                     \n",
              "United Kingdom  7.308392e+06\n",
              "Netherlands     2.854463e+05\n",
              "EIRE            2.655459e+05\n",
              "Germany         2.288671e+05\n",
              "France          2.090240e+05"
            ]
          },
          "metadata": {
            "tags": []
          },
          "execution_count": 297
        }
      ]
    },
    {
      "cell_type": "markdown",
      "metadata": {
        "id": "y7aU5TRHZhcE"
      },
      "source": [
        "### Analysis: \n",
        "\n",
        "UK alone results in 82% of total $ revenue which is expected for a UK based retailer."
      ]
    },
    {
      "cell_type": "markdown",
      "metadata": {
        "id": "c-ERZwLBZhcE"
      },
      "source": [
        "### Business Strategy:\n",
        "\n",
        "The senior management for the retail company should consider expanding to the other countries (fter UK) where they have significant sales such as Neatherland, EIRE, Germany & France for future geographic expansion."
      ]
    }
  ]
}